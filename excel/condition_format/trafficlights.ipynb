{
 "cells": [
  {
   "cell_type": "code",
   "execution_count": 1,
   "metadata": {},
   "outputs": [
    {
     "data": {
      "text/plain": [
       "{'type': 'icon_set',\n",
       " 'icon_style': '3_traffic_lights',\n",
       " 'icons': [{'criteria': '>=', 'type': 'number', 'value': '80'},\n",
       "  {'criteria': '>=', 'type': 'number', 'value': '60'}],\n",
       " 'reverse_icons': False}"
      ]
     },
     "execution_count": 1,
     "metadata": {},
     "output_type": "execute_result"
    }
   ],
   "source": [
    "import xlsxwriter\n",
    "import numpy as np\n",
    "import re\n",
    "def traffic_options(green='>=80', yellow='>=60', reverse=False):\n",
    "    pat = re.compile('([<=>]+)([\\d\\.]+)')\n",
    "    green_criteria, green_value = pat.findall(green)[0]\n",
    "    yellow_criteria, yellow_value = pat.findall(yellow)[0]\n",
    "    return {'type': 'icon_set',\n",
    "            'icon_style': '3_traffic_lights',\n",
    "            'icons': [{'criteria': green_criteria, 'type': 'number', 'value': green_value},\n",
    "                      {'criteria': yellow_criteria, 'type': 'number',  'value': yellow_value}],\n",
    "            'reverse_icons': reverse\n",
    "            }\n",
    "\n",
    "traffic_options()"
   ]
  },
  {
   "cell_type": "code",
   "execution_count": 32,
   "metadata": {},
   "outputs": [
    {
     "name": "stdout",
     "output_type": "stream",
     "text": [
      "traffic_lights.xlsx saved.\n"
     ]
    }
   ],
   "source": [
    "wb = xlsxwriter.Workbook('traffic_lights.xlsx')\n",
    "ws = wb.add_worksheet()\n",
    "\n",
    "# defalut\n",
    "data = np.arange(100).reshape(10, 10)\n",
    "for row, row_data in enumerate(data):\n",
    "    ws.write_row(row, 0, row_data)\n",
    "options = traffic_options()\n",
    "ws.conditional_format('A1:J10', options)\n",
    "ws.write(10, 0, 'options:'+str(options))\n",
    "\n",
    "# higher the better\n",
    "data = np.arange(100).reshape(10, 10)\n",
    "for row, row_data in enumerate(data):\n",
    "    ws.write_row(row+12, 0, row_data)\n",
    "options = traffic_options('>85', '>=68')\n",
    "ws.conditional_format('A13:J22', options)\n",
    "ws.write(22, 0, 'options:'+str(options))\n",
    "\n",
    "# lower the better\n",
    "data = np.arange(100).reshape(10, 10)/100\n",
    "for row, row_data in enumerate(data):\n",
    "    ws.write_row(row+24, 0, row_data)\n",
    "options = traffic_options('>=0.68', '>0.25', True)\n",
    "ws.conditional_format('A25:J34', options)\n",
    "ws.write(34, 0, 'options:'+str(options))\n",
    "\n",
    "wb.close()\n",
    "print(f'{wb.filename} saved.')"
   ]
  },
  {
   "cell_type": "code",
   "execution_count": 3,
   "metadata": {},
   "outputs": [
    {
     "ename": "NameError",
     "evalue": "name 'wb' is not defined",
     "output_type": "error",
     "traceback": [
      "\u001b[1;31m---------------------------------------------------------------------------\u001b[0m",
      "\u001b[1;31mNameError\u001b[0m                                 Traceback (most recent call last)",
      "\u001b[1;32m<ipython-input-3-17165db61d69>\u001b[0m in \u001b[0;36m<module>\u001b[1;34m\u001b[0m\n\u001b[1;32m----> 1\u001b[1;33m \u001b[0mfmt_percent\u001b[0m \u001b[1;33m=\u001b[0m \u001b[0mwb\u001b[0m\u001b[1;33m.\u001b[0m\u001b[0madd_format\u001b[0m\u001b[1;33m(\u001b[0m\u001b[1;33m)\u001b[0m\u001b[1;33m.\u001b[0m\u001b[0mset_num_format\u001b[0m\u001b[1;33m(\u001b[0m\u001b[1;34m'#,##0'\u001b[0m\u001b[1;33m)\u001b[0m\u001b[1;33m\u001b[0m\u001b[1;33m\u001b[0m\u001b[0m\n\u001b[0m",
      "\u001b[1;31mNameError\u001b[0m: name 'wb' is not defined"
     ]
    }
   ],
   "source": [
    "fmt_percent = wb.add_format().set_num_format('#,##0')"
   ]
  },
  {
   "cell_type": "code",
   "execution_count": null,
   "metadata": {},
   "outputs": [],
   "source": []
  }
 ],
 "metadata": {
  "kernelspec": {
   "display_name": "Python 3",
   "language": "python",
   "name": "python3"
  },
  "language_info": {
   "codemirror_mode": {
    "name": "ipython",
    "version": 3
   },
   "file_extension": ".py",
   "mimetype": "text/x-python",
   "name": "python",
   "nbconvert_exporter": "python",
   "pygments_lexer": "ipython3",
   "version": "3.7.1"
  }
 },
 "nbformat": 4,
 "nbformat_minor": 2
}
