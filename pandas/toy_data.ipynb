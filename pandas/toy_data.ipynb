{
 "cells": [
  {
   "cell_type": "markdown",
   "metadata": {},
   "source": [
    "# [Make Toy Data Structures With Pandas’ Testing Module](https://realpython.com/python-pandas-tricks/y)"
   ]
  },
  {
   "cell_type": "code",
   "execution_count": 16,
   "metadata": {},
   "outputs": [],
   "source": [
    "import pandas.util.testing as tm\n",
    "import numpy as np\n",
    "\n",
    "np.random.seed(12345)\n",
    "tm.N, tm.K = 15, 3  # Module-level default rows/columns"
   ]
  },
  {
   "cell_type": "code",
   "execution_count": 17,
   "metadata": {},
   "outputs": [
    {
     "name": "stdout",
     "output_type": "stream",
     "text": [
      "['makeBoolIndex', 'makeCategoricalIndex', 'makeCustomIndex', 'makeDateIndex', 'makeFloatIndex', 'makeIntIndex', 'makeIntervalIndex', 'makeMultiIndex', 'makePeriodIndex', 'makeRangeIndex', 'makeStringIndex', 'makeTimedeltaIndex', 'makeUIntIndex', 'makeUnicodeIndex']\n"
     ]
    },
    {
     "data": {
      "text/plain": [
       "Index(['ILDbKPLIDb', '2X7oPB32qY', 'jlnkrsMhRN', 'xD43F9HBxK', 'aVd88fp3lo',\n",
       "       'ZrRfI1ZifI', 'Sf7tmo7qBM', 'yGRfkmwm4P', 'sYs5U6xvhr', '7aAS5oAREJ'],\n",
       "      dtype='object')"
      ]
     },
     "execution_count": 17,
     "metadata": {},
     "output_type": "execute_result"
    }
   ],
   "source": [
    "print([i for i in dir(tm) if i.startswith('make') & i.endswith('Index')])\n",
    "tm.makeStringIndex()"
   ]
  },
  {
   "cell_type": "code",
   "execution_count": 19,
   "metadata": {},
   "outputs": [
    {
     "name": "stdout",
     "output_type": "stream",
     "text": [
      "['makeDataFrame', 'makeMixedDataFrame', 'makeTimeDataFrame']\n"
     ]
    }
   ],
   "source": [
    "print([i for i in dir(tm) if i.startswith('make') & i.endswith('DataFrame')])"
   ]
  },
  {
   "cell_type": "code",
   "execution_count": 3,
   "metadata": {
    "scrolled": false
   },
   "outputs": [
    {
     "data": {
      "text/html": [
       "<div>\n",
       "<style scoped>\n",
       "    .dataframe tbody tr th:only-of-type {\n",
       "        vertical-align: middle;\n",
       "    }\n",
       "\n",
       "    .dataframe tbody tr th {\n",
       "        vertical-align: top;\n",
       "    }\n",
       "\n",
       "    .dataframe thead th {\n",
       "        text-align: right;\n",
       "    }\n",
       "</style>\n",
       "<table border=\"1\" class=\"dataframe\">\n",
       "  <thead>\n",
       "    <tr style=\"text-align: right;\">\n",
       "      <th></th>\n",
       "      <th>A</th>\n",
       "      <th>B</th>\n",
       "      <th>C</th>\n",
       "    </tr>\n",
       "  </thead>\n",
       "  <tbody>\n",
       "    <tr>\n",
       "      <th>2000-01-31</th>\n",
       "      <td>-0.204708</td>\n",
       "      <td>0.886429</td>\n",
       "      <td>-0.713544</td>\n",
       "    </tr>\n",
       "    <tr>\n",
       "      <th>2000-02-29</th>\n",
       "      <td>0.478943</td>\n",
       "      <td>-2.001637</td>\n",
       "      <td>-0.831154</td>\n",
       "    </tr>\n",
       "    <tr>\n",
       "      <th>2000-03-31</th>\n",
       "      <td>-0.519439</td>\n",
       "      <td>-0.371843</td>\n",
       "      <td>-2.370232</td>\n",
       "    </tr>\n",
       "    <tr>\n",
       "      <th>2000-04-30</th>\n",
       "      <td>-0.555730</td>\n",
       "      <td>1.669025</td>\n",
       "      <td>-1.860761</td>\n",
       "    </tr>\n",
       "    <tr>\n",
       "      <th>2000-05-31</th>\n",
       "      <td>1.965781</td>\n",
       "      <td>-0.438570</td>\n",
       "      <td>-0.860757</td>\n",
       "    </tr>\n",
       "  </tbody>\n",
       "</table>\n",
       "</div>"
      ],
      "text/plain": [
       "                   A         B         C\n",
       "2000-01-31 -0.204708  0.886429 -0.713544\n",
       "2000-02-29  0.478943 -2.001637 -0.831154\n",
       "2000-03-31 -0.519439 -0.371843 -2.370232\n",
       "2000-04-30 -0.555730  1.669025 -1.860761\n",
       "2000-05-31  1.965781 -0.438570 -0.860757"
      ]
     },
     "execution_count": 3,
     "metadata": {},
     "output_type": "execute_result"
    }
   ],
   "source": [
    "tm.makeTimeDataFrame(freq='M').head()"
   ]
  },
  {
   "cell_type": "code",
   "execution_count": 4,
   "metadata": {
    "scrolled": true
   },
   "outputs": [
    {
     "data": {
      "text/html": [
       "<div>\n",
       "<style scoped>\n",
       "    .dataframe tbody tr th:only-of-type {\n",
       "        vertical-align: middle;\n",
       "    }\n",
       "\n",
       "    .dataframe tbody tr th {\n",
       "        vertical-align: top;\n",
       "    }\n",
       "\n",
       "    .dataframe thead th {\n",
       "        text-align: right;\n",
       "    }\n",
       "</style>\n",
       "<table border=\"1\" class=\"dataframe\">\n",
       "  <thead>\n",
       "    <tr style=\"text-align: right;\">\n",
       "      <th></th>\n",
       "      <th>A</th>\n",
       "      <th>B</th>\n",
       "      <th>C</th>\n",
       "    </tr>\n",
       "  </thead>\n",
       "  <tbody>\n",
       "    <tr>\n",
       "      <th>h5fTs0ilsf</th>\n",
       "      <td>0.286350</td>\n",
       "      <td>-1.392916</td>\n",
       "      <td>-0.205313</td>\n",
       "    </tr>\n",
       "    <tr>\n",
       "      <th>82LjS9MbUz</th>\n",
       "      <td>-0.622144</td>\n",
       "      <td>-0.454878</td>\n",
       "      <td>-0.248538</td>\n",
       "    </tr>\n",
       "    <tr>\n",
       "      <th>R1aniisVpA</th>\n",
       "      <td>0.958238</td>\n",
       "      <td>0.476057</td>\n",
       "      <td>0.129384</td>\n",
       "    </tr>\n",
       "    <tr>\n",
       "      <th>GSYGwftpIC</th>\n",
       "      <td>0.794095</td>\n",
       "      <td>0.576800</td>\n",
       "      <td>2.514899</td>\n",
       "    </tr>\n",
       "    <tr>\n",
       "      <th>heNYdwG1nu</th>\n",
       "      <td>-0.755709</td>\n",
       "      <td>0.647174</td>\n",
       "      <td>0.476679</td>\n",
       "    </tr>\n",
       "  </tbody>\n",
       "</table>\n",
       "</div>"
      ],
      "text/plain": [
       "                   A         B         C\n",
       "h5fTs0ilsf  0.286350 -1.392916 -0.205313\n",
       "82LjS9MbUz -0.622144 -0.454878 -0.248538\n",
       "R1aniisVpA  0.958238  0.476057  0.129384\n",
       "GSYGwftpIC  0.794095  0.576800  2.514899\n",
       "heNYdwG1nu -0.755709  0.647174  0.476679"
      ]
     },
     "execution_count": 4,
     "metadata": {},
     "output_type": "execute_result"
    }
   ],
   "source": [
    "tm.makeDataFrame().head()"
   ]
  }
 ],
 "metadata": {
  "kernelspec": {
   "display_name": "Python 3",
   "language": "python",
   "name": "python3"
  },
  "language_info": {
   "codemirror_mode": {
    "name": "ipython",
    "version": 3
   },
   "file_extension": ".py",
   "mimetype": "text/x-python",
   "name": "python",
   "nbconvert_exporter": "python",
   "pygments_lexer": "ipython3",
   "version": "3.7.1"
  }
 },
 "nbformat": 4,
 "nbformat_minor": 2
}
