{
 "cells": [
  {
   "cell_type": "code",
   "execution_count": 2,
   "metadata": {},
   "outputs": [],
   "source": [
    "import matplotlib.font_manager as fmr\n",
    "import matplotlib.pyplot as plt\n",
    "%matplotlib inline\n",
    "\n",
    "import pandas as pd\n",
    "from openpyxl.styles import Font\n",
    "\n",
    "col_names = ['ascender', 'bbox', 'descender', 'face_flags', 'family_name', 'fname',  'height', \n",
    "             'max_advance_height', 'max_advance_width', 'num_charmaps', 'num_faces', 'num_fixed_sizes', \n",
    "             'num_glyphs', 'postscript_name', 'scalable', 'style_flags', 'style_name', \n",
    "             'underline_position', 'underline_thickness', 'units_per_EM']\n",
    "df = pd.DataFrame(columns=col_names)\n",
    "f_lst = fmr.findSystemFonts(fontpaths=None, fontext='ttf')\n",
    "for i in range(len(f_lst)):\n",
    "    font = fmr.get_font(f_lst[i])\n",
    "    for col in col_names:\n",
    "        df.loc[i, col] = font.__getattribute__(col)\n",
    "        \n",
    "df = df.sort_values(by='family_name')\n",
    "\n",
    "writer = pd.ExcelWriter('font.xlsx', engine='openpyxl')\n",
    "df.to_excel(excel_writer=writer, index=False, sheet_name='fonts')\n",
    "ws = writer.book.worksheets[0]\n",
    "col = ws.max_column+1\n",
    "for idx, font in enumerate(df.family_name):\n",
    "    cell = ws.cell(idx+2, col)\n",
    "    cell.value = font + \" The quick brown fox jumps over the lazy dog! 1234567890\"\n",
    "    cell.font = Font(name=font, sz=20)\n",
    "    \n",
    "writer.close()"
   ]
  },
  {
   "cell_type": "code",
   "execution_count": 7,
   "metadata": {},
   "outputs": [],
   "source": [
    "import matplotlib.font_manager as fmr\n",
    "import matplotlib.pyplot as plt\n",
    "%matplotlib inline\n",
    "\n",
    "import pandas as pd\n",
    "from openpyxl.styles import Font\n",
    "\n",
    "col_names = ['ascender', 'bbox', 'descender', 'face_flags', 'family_name', 'fname',  'height', \n",
    "             'max_advance_height', 'max_advance_width', 'num_charmaps', 'num_faces', 'num_fixed_sizes', \n",
    "             'num_glyphs', 'postscript_name', 'scalable', 'style_flags', 'style_name', \n",
    "             'underline_position', 'underline_thickness', 'units_per_EM']\n",
    "df = pd.DataFrame(columns=col_names)\n",
    "f_lst = fmr.findSystemFonts(fontpaths=None, fontext='ttf')\n",
    "for i in range(len(f_lst)):\n",
    "    font = fmr.get_font(f_lst[i])\n",
    "    for col in col_names:\n",
    "        df.loc[i, col] = font.__getattribute__(col)\n",
    "        \n",
    "df = df.sort_values(by='family_name')"
   ]
  },
  {
   "cell_type": "code",
   "execution_count": 11,
   "metadata": {},
   "outputs": [
    {
     "data": {
      "text/plain": [
       "array(['Agency FB', 'Algerian', 'Arial', 'Arial Rounded MT Bold',\n",
       "       'Arial Unicode MS', 'Bahnschrift', 'Baskerville Old Face',\n",
       "       'Bauhaus 93', 'Bell MT', 'Berlin Sans FB', 'Berlin Sans FB Demi',\n",
       "       'Bernard MT Condensed', 'Blackadder ITC', 'Bodoni MT',\n",
       "       'Book Antiqua', 'Bookman Old Style', 'Bookshelf Symbol 7',\n",
       "       'Bradley Hand ITC', 'Britannic Bold', 'Broadway',\n",
       "       'Brush Script MT', 'Calibri', 'Californian FB', 'Calisto MT',\n",
       "       'Cambria', 'Candara', 'Castellar', 'Centaur', 'Century',\n",
       "       'Century Gothic', 'Century Schoolbook', 'Chiller', 'Code-128',\n",
       "       'Colonna MT', 'Comic Sans MS', 'Consolas', 'Constantia',\n",
       "       'Cooper Black', 'Copperplate Gothic Bold',\n",
       "       'Copperplate Gothic Light', 'Corbel', 'Courier New', 'Curlz MT',\n",
       "       'Ebrima', 'Edwardian Script ITC', 'Elephant', 'Engravers MT',\n",
       "       'Eras Bold ITC', 'Eras Demi ITC', 'Eras Light ITC',\n",
       "       'Eras Medium ITC', 'ExtraS 1', 'ExtraS 2', 'ExtraS 3', 'ExtraS 4',\n",
       "       'Felix Titling', 'Footlight MT Light', 'Forte',\n",
       "       'Franklin Gothic Book', 'Franklin Gothic Demi',\n",
       "       'Franklin Gothic Demi Cond', 'Franklin Gothic Heavy',\n",
       "       'Franklin Gothic Medium', 'Franklin Gothic Medium Cond',\n",
       "       'Freestyle Script', 'French Script MT', 'Gabriola', 'Gadugi',\n",
       "       'Garamond', 'Georgia', 'Gigi', 'Gill Sans MT',\n",
       "       'Gill Sans MT Condensed', 'Gill Sans MT Ext Condensed Bold',\n",
       "       'Gill Sans Ultra Bold', 'Gill Sans Ultra Bold Condensed',\n",
       "       'Gloucester MT Extra Condensed', 'Goudy Old Style', 'Goudy Stout',\n",
       "       'Haettenschweiler', 'Harlow Solid Italic', 'Harrington',\n",
       "       'High Tower Text', 'HoloLens MDL2 Assets', 'Impact',\n",
       "       'Imprint MT Shadow', 'Informal Roman', 'Ink Free', 'Javanese Text',\n",
       "       'Jokerman', 'Juice ITC', 'Kristen ITC', 'Kunstler Script',\n",
       "       'Leelawadee UI', 'Lucida Bright', 'Lucida Calligraphy',\n",
       "       'Lucida Console', 'Lucida Fax', 'Lucida Handwriting',\n",
       "       'Lucida Sans', 'Lucida Sans Typewriter', 'Lucida Sans Unicode',\n",
       "       'MS Outlook', 'MS Reference Sans Serif', 'MS Reference Specialty',\n",
       "       'MT Extra', 'MV Boli', 'Magneto', 'Maiandra GD', 'Malgun Gothic',\n",
       "       'Marlett', 'Matura MT Script Capitals', 'Microsoft Himalaya',\n",
       "       'Microsoft New Tai Lue', 'Microsoft PhagsPa',\n",
       "       'Microsoft Sans Serif', 'Microsoft Tai Le', 'Microsoft Yi Baiti',\n",
       "       'Mistral', 'Modern No. 20', 'Mongolian Baiti', 'Monotype Corsiva',\n",
       "       'Myanmar Text', 'Niagara Engraved', 'Niagara Solid', 'Nirmala UI',\n",
       "       'OCR A Extended', 'Old English Text MT', 'Onyx',\n",
       "       'Palace Script MT', 'Palatino Linotype', 'Papyrus', 'Parchment',\n",
       "       'Perpetua', 'Perpetua Titling MT', 'Playbill', 'Poor Richard',\n",
       "       'Pristina', 'Rage Italic', 'Ravie', 'Rockwell',\n",
       "       'Rockwell Condensed', 'Rockwell Extra Bold', 'SIEMENS-Firmenmarke',\n",
       "       'Script MT Bold', 'Segoe MDL2 Assets', 'Segoe Print',\n",
       "       'Segoe Script', 'Segoe UI', 'Segoe UI Emoji', 'Segoe UI Historic',\n",
       "       'Segoe UI Symbol', 'Showcard Gothic', 'Siemens Logo',\n",
       "       'Siemens Sans', 'Siemens Sans Black', 'Siemens Sans Global',\n",
       "       'Siemens Sans SC', 'Siemens Sans SC Black', 'Siemens Serif',\n",
       "       'Siemens Serif SC', 'Siemens Serif SC Semi',\n",
       "       'Siemens Serif Semibold', 'Siemens Slab', 'Siemens Slab Black',\n",
       "       'Siemens Slab SC', 'Siemens Slab SC Black', 'SimSun-ExtB',\n",
       "       'Snap ITC', 'Stencil', 'Sylfaen', 'Symbol', 'Tahoma', 'Technical',\n",
       "       'Tempus Sans ITC', 'Times New Roman', 'Trebuchet MS', 'Tw Cen MT',\n",
       "       'Tw Cen MT Condensed', 'Tw Cen MT Condensed Extra Bold',\n",
       "       'UniversS 45 Light', 'UniversS 47 CondensedLight',\n",
       "       'UniversS 55 Roman', 'UniversS 57 Condensed',\n",
       "       'UniversS Euro 45 Light', 'UniversS Euro 67 CondBold', 'Verdana',\n",
       "       'VersaPlusSM', 'Viner Hand ITC', 'Vivaldi', 'Vladimir Script',\n",
       "       'Webdings', 'Wide Latin', 'Wingdings', 'Wingdings 2',\n",
       "       'Wingdings 3'], dtype=object)"
      ]
     },
     "execution_count": 11,
     "metadata": {},
     "output_type": "execute_result"
    }
   ],
   "source": [
    "df.family_name.unique()"
   ]
  },
  {
   "cell_type": "code",
   "execution_count": null,
   "metadata": {},
   "outputs": [],
   "source": []
  }
 ],
 "metadata": {
  "kernelspec": {
   "display_name": "Python 3",
   "language": "python",
   "name": "python3"
  },
  "language_info": {
   "codemirror_mode": {
    "name": "ipython",
    "version": 3
   },
   "file_extension": ".py",
   "mimetype": "text/x-python",
   "name": "python",
   "nbconvert_exporter": "python",
   "pygments_lexer": "ipython3",
   "version": "3.7.1"
  }
 },
 "nbformat": 4,
 "nbformat_minor": 2
}
