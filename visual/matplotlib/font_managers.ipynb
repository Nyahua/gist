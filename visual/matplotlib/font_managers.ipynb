{
 "cells": [
  {
   "cell_type": "code",
   "execution_count": null,
   "metadata": {},
   "outputs": [],
   "source": [
    "import matplotlib.font_manager as fmr\n",
    "import matplotlib.pyplot as plt\n",
    "%matplotlib inline\n",
    "\n",
    "import pandas as pd\n",
    "from openpyxl.styles import Font\n",
    "\n",
    "col_names = ['ascender', 'bbox', 'descender', 'face_flags', 'family_name', 'fname',  'height', \n",
    "             'max_advance_height', 'max_advance_width', 'num_charmaps', 'num_faces', 'num_fixed_sizes', \n",
    "             'num_glyphs', 'postscript_name', 'scalable', 'style_flags', 'style_name', \n",
    "             'underline_position', 'underline_thickness', 'units_per_EM']\n",
    "df = pd.DataFrame(columns=col_names)\n",
    "f_lst = fmr.findSystemFonts(fontpaths=None, fontext='ttf')\n",
    "for i in range(len(f_lst)):\n",
    "    font = fmr.get_font(f_lst[i])\n",
    "    for col in col_names:\n",
    "        df.loc[i, col] = font.__getattribute__(col)\n",
    "        \n",
    "df = df.sort_values(by='family_name')\n",
    "\n",
    "writer = pd.ExcelWriter('font.xlsx', engine='openpyxl')\n",
    "df.to_excel(excel_writer=writer, index=False, sheet_name='fonts')\n",
    "ws = writer.book.worksheets[0]\n",
    "col = ws.max_column+1\n",
    "for idx, font in enumerate(df.family_name):\n",
    "    cell = ws.cell(idx+2, col)\n",
    "    cell.value = font + \" The quick brown fox jumps over the lazy dog! 1234567890\"\n",
    "    cell.font = Font(name=font, sz=20)\n",
    "    \n",
    "writer.close()"
   ]
  },
  {
   "cell_type": "code",
   "execution_count": null,
   "metadata": {},
   "outputs": [],
   "source": [
    "import matplotlib.font_manager as fmr\n",
    "import matplotlib.pyplot as plt\n",
    "%matplotlib inline\n",
    "\n",
    "import pandas as pd\n",
    "from openpyxl.styles import Font\n",
    "\n",
    "col_names = ['ascender', 'bbox', 'descender', 'face_flags', 'family_name', 'fname',  'height', \n",
    "             'max_advance_height', 'max_advance_width', 'num_charmaps', 'num_faces', 'num_fixed_sizes', \n",
    "             'num_glyphs', 'postscript_name', 'scalable', 'style_flags', 'style_name', \n",
    "             'underline_position', 'underline_thickness', 'units_per_EM']\n",
    "df = pd.DataFrame(columns=col_names)\n",
    "f_lst = fmr.findSystemFonts(fontpaths=None, fontext='ttf')\n",
    "for i in range(len(f_lst)):\n",
    "    font = fmr.get_font(f_lst[i])\n",
    "    for col in col_names:\n",
    "        df.loc[i, col] = font.__getattribute__(col)\n",
    "        \n",
    "df = df.sort_values(by='family_name')"
   ]
  },
  {
   "cell_type": "code",
   "execution_count": null,
   "metadata": {},
   "outputs": [],
   "source": [
    "df.family_name.unique()"
   ]
  },
  {
   "cell_type": "code",
   "execution_count": null,
   "metadata": {},
   "outputs": [],
   "source": []
  }
 ],
 "metadata": {
  "kernelspec": {
   "display_name": "Python 3",
   "language": "python",
   "name": "python3"
  },
  "language_info": {
   "codemirror_mode": {
    "name": "ipython",
    "version": 3
   },
   "file_extension": ".py",
   "mimetype": "text/x-python",
   "name": "python",
   "nbconvert_exporter": "python",
   "pygments_lexer": "ipython3",
   "version": "3.7.1"
  }
 },
 "nbformat": 4,
 "nbformat_minor": 2
}
