{
 "cells": [
  {
   "cell_type": "code",
   "execution_count": null,
   "metadata": {},
   "outputs": [],
   "source": [
    "import json\n",
    "\n",
    "# convert rgb to hex\n",
    "rgb2hex = lambda rgb: \"#{:02x}{:02x}{:02x}\".format(*rgb)\n",
    "colors2hex = lambda colors: [rgb2hex(color) for color in colors]\n",
    "with open(\"data/colorbrewer_all_schemes.json\") as f:\n",
    "    dic = json.load(f)\n",
    "def colorbrewer2hex(dic):\n",
    "    next_dic = {}\n",
    "    for k, v  in dic.items():\n",
    "        if isinstance(v, dict):\n",
    "            next_dic[k] = colorbrewer2hex(v)\n",
    "        else:\n",
    "            if k=='Colors':\n",
    "                next_dic[k] = colors2hex(v)\n",
    "            else:\n",
    "                next_dic[k] = v\n",
    "    return next_dic\n",
    "with open('data/colorbrewer2_hex.json', 'w') as f:\n",
    "  json.dump(colorbrewer2hex(dic), f)"
   ]
  },
  {
   "cell_type": "code",
   "execution_count": null,
   "metadata": {},
   "outputs": [],
   "source": [
    "# print colors\n",
    "def colorbrewer2colors(dic, roots=\"\"):\n",
    "    for k, v  in dic.items():\n",
    "        if isinstance(v, dict):\n",
    "            colorbrewer2colors(v, roots + f\"['{k}']\")\n",
    "        else:\n",
    "            if k=='Colors':\n",
    "                print(roots+\"['colors']\")\n",
    "                print(colors2hex(v))\n",
    "colorbrewer2colors(dic)"
   ]
  },
  {
   "cell_type": "code",
   "execution_count": null,
   "metadata": {},
   "outputs": [],
   "source": [
    "import matplotlib.pyplot as plt\n",
    "%matplotlib inline\n",
    "\n",
    "def colorsbar(colors):\n",
    "    nums = len(colors)\n",
    "    fig, ax = plt.subplots(figsize=(nums,1))\n",
    "    ax.barh(y=0, width=1, left=range(nums), color=colors)\n",
    "    ax.set_axis_off()\n",
    "    plt.show()\n",
    "    \n",
    "# print colors\n",
    "def colorbrewer2colors(dic, roots=\"\"):\n",
    "    for k, v  in dic.items():\n",
    "        if isinstance(v, dict):\n",
    "            colorbrewer2colors(v, roots + f\"['{k}']\")\n",
    "        else:\n",
    "            if k=='Colors':\n",
    "                print(roots+\"['colors']\")\n",
    "                colorsbar(colors2hex(v))\n",
    "colorbrewer2colors(dic)"
   ]
  }
 ],
 "metadata": {
  "kernelspec": {
   "display_name": "Python 3",
   "language": "python",
   "name": "python3"
  },
  "language_info": {
   "codemirror_mode": {
    "name": "ipython",
    "version": 3
   },
   "file_extension": ".py",
   "mimetype": "text/x-python",
   "name": "python",
   "nbconvert_exporter": "python",
   "pygments_lexer": "ipython3",
   "version": "3.7.1"
  }
 },
 "nbformat": 4,
 "nbformat_minor": 2
}
