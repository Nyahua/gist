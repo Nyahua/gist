{
 "cells": [
  {
   "cell_type": "code",
   "execution_count": 18,
   "metadata": {},
   "outputs": [
    {
     "data": {
      "text/plain": [
       "'#647d28'"
      ]
     },
     "execution_count": 18,
     "metadata": {},
     "output_type": "execute_result"
    }
   ],
   "source": [
    "#SIEMENS COLORS CONSTANT\n",
    "\n",
    "class SiemensColors:\n",
    "    def __init__(self):\n",
    "        self.snow = ['#ffffff'],\n",
    "        self.stone = ['#2d373c', '#3c464b', '#555f69', '#697882', '#788791', '#879baa', '#9bafbe', '#adbecb', '#becdd7', '#cdd9e1', '#dfe6ed', '#ebf0f5']\n",
    "        self.sand = ['#4b3c32', '#64554b', '#73645a', '#877d6e', '#9b9682', '#aaaa96', '#b9b9a5', '#c8c8b9', '#d7d7cd', '#e1e1d7', '#ebebe3', '#f5f5f0']\n",
    "        self.teal = ['#003c46', '#004b55', '#00646e', '#00737d', '#0f8287', '#239196', '#32a0a0', '#41aaaa', '#4bb9b9', '#78cdcd', '#a5e1e1', '#c3f0f0']\n",
    "        self.blue = ['#003750', '#004669', '#00557d', '#005f87', '#0f789b', '#2387aa', '#3296b9', '#41aac8', '#50bed7', '#7dd2e6', '#aae6f5', '#c8f5ff']\n",
    "        self.yellow = ['#7d2d1e', '#a03c23', '#b44b28', '#c85a1e', '#dc6914', '#eb780a', '#f58c14', '#faa50a', '#ffb900', '#ffcd50', '#ffe178', '#fff09b']\n",
    "        self.red = ['#411432', '#50143c', '#641946', '#781e4b', '#871e50', '#9b1e5a', '#af235f', '#c34673', '#d7698c', '#e687a5', '#f0aac3', '#f5c8dc']\n",
    "        self.green = ['#37500f', '#465f19', '#556e28', '#647d28', '#738732', '#879628', '#96a51e', '#aab414', '#bec328', '#d2d741', '#e6e65f', '#f0f08c']\n",
    "        self.stone_dark = \"#3c464b\"\n",
    "        self.stone_light = \"#879baa\"\n",
    "        self.stone_light_35 = \"#becdd7\"\n",
    "        self.sand_dark = \"#73645a\"\n",
    "        self.sand_light = \"#aaaa96\"\n",
    "        self.sand_light_35 = \"#d7d7cd\"\n",
    "        self.teal_dark = \"#00646e\"\n",
    "        self.teal_light = \"#41aaaa\"\n",
    "        self.blue_dark = \"#005f87\"\n",
    "        self.blue_light = \"#50bed7\"\n",
    "        self.yellow_dark = \"#eb780a\"\n",
    "        self.yellow_light = \"#ffb900\"\n",
    "        self.red_dark = \"#641946\"\n",
    "        self.red_light = \"#af235f\"\n",
    "        self.green_dark = \"#647d28\"\n",
    "        self.green_light = \"#aab414\"\n",
    "        \n",
    "if __name__ == '__main__':\n",
    "    siecolor = SiemensColors()\n",
    "    sie_color.green_dark"
   ]
  }
 ],
 "metadata": {
  "kernelspec": {
   "display_name": "Python 3",
   "language": "python",
   "name": "python3"
  },
  "language_info": {
   "codemirror_mode": {
    "name": "ipython",
    "version": 3
   },
   "file_extension": ".py",
   "mimetype": "text/x-python",
   "name": "python",
   "nbconvert_exporter": "python",
   "pygments_lexer": "ipython3",
   "version": "3.7.1"
  }
 },
 "nbformat": 4,
 "nbformat_minor": 2
}
