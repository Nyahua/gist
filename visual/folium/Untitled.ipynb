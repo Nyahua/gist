{
 "cells": [
  {
   "cell_type": "code",
   "execution_count": 1,
   "metadata": {},
   "outputs": [],
   "source": [
    "import folium\n",
    "import branca\n",
    "from pathlib import Path\n",
    "import pandas as pd\n",
    "import numpy as np\n",
    "import json\n",
    "\n",
    "GEOPATH = Path(\"geojson\")\n",
    "GEOREN = GEOPATH / 'rne.json'\n",
    "json_rne = json.loads(GEOREN.read_text())\n",
    "df_map = pd.DataFrame(\n",
    "    data = [(city['properties']['name'], *city['properties']['cp']) for city in json_rne['features']],\n",
    "    columns = ['city', 'lon', 'lat']\n",
    ")\n",
    "df = pd.read_excel('data/data.xlsx')\n",
    "df = df.merge(df_map, on='city')"
   ]
  },
  {
   "cell_type": "code",
   "execution_count": 7,
   "metadata": {},
   "outputs": [
    {
     "data": {
      "text/html": [
       "<div style=\"width:100%;\"><div style=\"position:relative;width:100%;height:0;padding-bottom:60%;\"><iframe src=\"data:text/html;charset=utf-8;base64,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\" style=\"position:absolute;width:100%;height:100%;left:0;top:0;border:none !important;\" allowfullscreen webkitallowfullscreen mozallowfullscreen></iframe></div></div>"
      ],
      "text/plain": [
       "<folium.folium.Map at 0x226bff99208>"
      ]
     },
     "execution_count": 7,
     "metadata": {},
     "output_type": "execute_result"
    }
   ],
   "source": [
    "from folium.plugins import HeatMap\n",
    "t_list = [\"Stamen Terrain\", \"Stamen Toner\", \"Mapbox Bright\"]\n",
    "\n",
    "data = df[['lat', 'lon', 'gdpII']].values.tolist()\n",
    "\n",
    "m = folium.Map([42., 123.], tiles=t_list[1], zoom_start=6)\n",
    "\n",
    "HeatMap(data).add_to(m)\n",
    "\n",
    "\n",
    "m"
   ]
  },
  {
   "cell_type": "code",
   "execution_count": null,
   "metadata": {},
   "outputs": [],
   "source": []
  }
 ],
 "metadata": {
  "kernelspec": {
   "display_name": "Python 3",
   "language": "python",
   "name": "python3"
  },
  "language_info": {
   "codemirror_mode": {
    "name": "ipython",
    "version": 3
   },
   "file_extension": ".py",
   "mimetype": "text/x-python",
   "name": "python",
   "nbconvert_exporter": "python",
   "pygments_lexer": "ipython3",
   "version": "3.7.1"
  }
 },
 "nbformat": 4,
 "nbformat_minor": 2
}
