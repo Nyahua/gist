{
 "cells": [
  {
   "cell_type": "code",
   "execution_count": 1,
   "metadata": {},
   "outputs": [],
   "source": [
    "from pathlib import Path\n",
    "import json\n",
    "import numpy as np\n",
    "import pandas as pd\n",
    "import folium\n",
    "import branca\n",
    "from branca.colormap import linear\n",
    "\n",
    "geojson_map = dict(\n",
    "    LNN = 'lnn_ime.json',\n",
    "    LNS = 'lns.json',\n",
    "    JL = 'jilin.json',\n",
    "    HLJ = 'heilongjiang.json',\n",
    ")"
   ]
  },
  {
   "cell_type": "code",
   "execution_count": 8,
   "metadata": {},
   "outputs": [
    {
     "name": "stdout",
     "output_type": "stream",
     "text": [
      "LNN\n",
      "JL\n",
      "LNS\n",
      "HLJ\n"
     ]
    }
   ],
   "source": [
    "df = pd.read_excel(\"data.xlsx\")\n",
    "geo_path = Path(\"geojson\")\n",
    "# Create a white image of 4 pixels, and embed it in a url.\n",
    "white_tile = branca.utilities.image_to_url([[1, 1], [1, 1]])\n",
    "    \n",
    "for territory in df.territory.unique():\n",
    "    print(territory)\n",
    "    df_temp = df.loc[df.territory==territory, ['city', 'gdpII']].sort_values(by='gdpII', ascending=True)\n",
    "    cities = df_temp[\"city\"].values\n",
    "    values = df_temp[\"gdpII\"].values\n",
    "    scalermap = linear.YlGn_09.scale(vmin=values.min(), vmax=values.max())\n",
    "    colors = [scalermap(v) for v in values]\n",
    "    color_dict = {city:color for city, color in zip(cities, colors)}\n",
    "    with open(geo_path / geojson_map[territory], encoding='utf-8') as f:\n",
    "        geo_json_data = json.loads(f.read())\n",
    "    \n",
    "    m = folium.Map(tiles=white_tile, attr='white tile')\n",
    "    folium.GeoJson(\n",
    "        geo_json_data,\n",
    "        name='city',\n",
    "        style_function=lambda features: {\n",
    "            'fillColor': color_dict[features['properties']['name']],\n",
    "            'fillOpacity': 1,\n",
    "            'opacity': 0.5,\n",
    "            'color': 'black',\n",
    "            'line_weight': 2,\n",
    "        }\n",
    "    ).add_to(m)\n",
    "    \n",
    "    # city markers\n",
    "    features = geo_json_data['features']\n",
    "    for city in features:\n",
    "        name, cp = city['properties']['name'], city['properties']['cp'][::-1]\n",
    "\n",
    "        folium.map.Marker(\n",
    "            location = cp,\n",
    "            icon=folium.features.DivIcon(\n",
    "                icon_size=(150,36),\n",
    "                icon_anchor=(30,10),\n",
    "                html=f'<div style=\"font-size: 10pt\">{name}</div>',\n",
    "                )\n",
    "            ).add_to(m)\n",
    "        \n",
    "    m.fit_bounds(m.get_bounds())\n",
    "    m.save(f\"output/{territory}.html\")"
   ]
  },
  {
   "cell_type": "code",
   "execution_count": 3,
   "metadata": {},
   "outputs": [
    {
     "data": {
      "text/plain": [
       "<Figure size 600x900 with 1 Axes>"
      ]
     },
     "metadata": {},
     "output_type": "display_data"
    }
   ],
   "source": [
    "import matplotlib.pyplot as plt\n",
    "from matplotlib import rcParams\n",
    "from matplotlib import font_manager\n",
    "\n",
    "rcParams['font.sans-serif'] = 'Siemens Sans'\n",
    "y = np.arange(len(values))\n",
    "fig, ax = plt.subplots(figsize=(6, 9))\n",
    "ax.barh(y, values, color=colors)\n",
    "for idx, city in enumerate(cities):\n",
    "    ax.text(0, idx, city)\n",
    "# ax.set_xscale(\"log\")\n",
    "ax.set_axis_off()\n",
    "plt.show()"
   ]
  },
  {
   "cell_type": "code",
   "execution_count": null,
   "metadata": {},
   "outputs": [],
   "source": []
  }
 ],
 "metadata": {
  "kernelspec": {
   "display_name": "Python 3",
   "language": "python",
   "name": "python3"
  },
  "language_info": {
   "codemirror_mode": {
    "name": "ipython",
    "version": 3
   },
   "file_extension": ".py",
   "mimetype": "text/x-python",
   "name": "python",
   "nbconvert_exporter": "python",
   "pygments_lexer": "ipython3",
   "version": "3.7.1"
  }
 },
 "nbformat": 4,
 "nbformat_minor": 2
}
