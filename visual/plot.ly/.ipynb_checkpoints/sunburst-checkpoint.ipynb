{
 "cells": [
  {
   "cell_type": "markdown",
   "metadata": {},
   "source": [
    "# [Sunburst Charts in Python](https://plot.ly/python/sunburst-charts/)\n",
    "\n",
    "Sunburst plots visualize hierarchical data spanning outwards radially from root to leaves. The sunburst sector hierarchy is determined by the entries in `labels` (`names` in `px.sunburst`) and in `parents`. The root starts from the center and children are added to the outer rings.\n",
    "\n",
    "Main arguments:\n",
    "\n",
    "1. `labels` (names in `px.sunburst` since labels is reserved for overriding columns `names`): sets the labels of sunburst sectors.\n",
    "2. `parents`: sets the parent sectors of sunburst sectors. An empty string '' is used for the root node in the hierarchy. In this example, the root is \"Eve\".\n",
    "3. `values`: sets the values associated with sunburst sectors, determining their width (See the branchvalues section below for different modes for setting the width)."
   ]
  },
  {
   "cell_type": "markdown",
   "metadata": {},
   "source": [
    "## [Basic Sunburst Plot with plotly.express]\n",
    "Plotly Express is the easy-to-use, high-level interface to Plotly, which operates on \"tidy\" data.\n",
    "\n",
    "With `px.sunburst`, each row of the `DataFrame` is represented as a sector of the sunburst."
   ]
  },
  {
   "cell_type": "code",
   "execution_count": null,
   "metadata": {},
   "outputs": [],
   "source": [
    "import plotly.express as px\n",
    "data = dict(\n",
    "    character=[\"Eve\", \"Cain\", \"Seth\", \"Enos\", \"Noam\", \"Abel\", \"Awan\", \"Enoch\", \"Azura\"],\n",
    "    parent=[\"\", \"Eve\", \"Eve\", \"Seth\", \"Seth\", \"Eve\", \"Eve\", \"Awan\", \"Eve\" ],\n",
    "    value=[10, 14, 12, 10, 2, 6, 6, 4, 4])\n",
    "\n",
    "fig =px.sunburst(\n",
    "    data,\n",
    "    names='character',\n",
    "    parents='parent',\n",
    "    values='value',\n",
    ")\n",
    "fig.show()"
   ]
  },
  {
   "cell_type": "markdown",
   "metadata": {},
   "source": [
    "## [Basic Sunburst Plot with `go.Sunburst`]()\n",
    "\n",
    "If Plotly Express does not provide a good starting point, it is also possible to use the more generic `go.Sunburst` function from plotly.graph_objects."
   ]
  },
  {
   "cell_type": "code",
   "execution_count": null,
   "metadata": {},
   "outputs": [],
   "source": [
    "import plotly.graph_objects as go\n",
    "\n",
    "fig =go.Figure(go.Sunburst(\n",
    "    labels=[\"Eve\", \"Cain\", \"Seth\", \"Enos\", \"Noam\", \"Abel\", \"Awan\", \"Enoch\", \"Azura\"],\n",
    "    parents=[\"\", \"Eve\", \"Eve\", \"Seth\", \"Seth\", \"Eve\", \"Eve\", \"Awan\", \"Eve\" ],\n",
    "    values=[10, 14, 12, 10, 2, 6, 6, 4, 4],\n",
    "))\n",
    "# Update layout for tight margin\n",
    "# See https://plot.ly/python/creating-and-updating-figures/\n",
    "fig.update_layout(margin = dict(t=0, l=0, r=0, b=0))\n",
    "\n",
    "fig.show()"
   ]
  },
  {
   "cell_type": "code",
   "execution_count": 70,
   "metadata": {},
   "outputs": [],
   "source": [
    "import plotly.graph_objects as go\n",
    "from plotly.subplots import make_subplots\n",
    "import pandas as pd\n",
    "\n",
    "frame = pd.read_excel('data/LNN_SalesOrder_Historical_20191220.xlsx')"
   ]
  },
  {
   "cell_type": "code",
   "execution_count": null,
   "metadata": {},
   "outputs": [],
   "source": [
    "frame.columns"
   ]
  },
  {
   "cell_type": "code",
   "execution_count": 134,
   "metadata": {},
   "outputs": [
    {
     "data": {
      "text/html": [
       "<div>\n",
       "<style scoped>\n",
       "    .dataframe tbody tr th:only-of-type {\n",
       "        vertical-align: middle;\n",
       "    }\n",
       "\n",
       "    .dataframe tbody tr th {\n",
       "        vertical-align: top;\n",
       "    }\n",
       "\n",
       "    .dataframe thead th {\n",
       "        text-align: right;\n",
       "    }\n",
       "</style>\n",
       "<table border=\"1\" class=\"dataframe\">\n",
       "  <thead>\n",
       "    <tr style=\"text-align: right;\">\n",
       "      <th></th>\n",
       "      <th>id</th>\n",
       "      <th>parent</th>\n",
       "      <th>value</th>\n",
       "      <th>color</th>\n",
       "    </tr>\n",
       "  </thead>\n",
       "  <tbody>\n",
       "    <tr>\n",
       "      <th>0</th>\n",
       "      <td>P113</td>\n",
       "      <td>MC LVM ( P113 + P127)</td>\n",
       "      <td>9616</td>\n",
       "      <td>0.035261</td>\n",
       "    </tr>\n",
       "    <tr>\n",
       "      <th>1</th>\n",
       "      <td>P122</td>\n",
       "      <td>MC GMC (P122)</td>\n",
       "      <td>11609</td>\n",
       "      <td>0.042569</td>\n",
       "    </tr>\n",
       "    <tr>\n",
       "      <th>2</th>\n",
       "      <td>P1S3</td>\n",
       "      <td>CS MC (LD P)</td>\n",
       "      <td>1782</td>\n",
       "      <td>0.006534</td>\n",
       "    </tr>\n",
       "    <tr>\n",
       "      <th>3</th>\n",
       "      <td>P681</td>\n",
       "      <td>Mindshpere</td>\n",
       "      <td>371</td>\n",
       "      <td>0.001360</td>\n",
       "    </tr>\n",
       "    <tr>\n",
       "      <th>4</th>\n",
       "      <td>R111</td>\n",
       "      <td>FA Product</td>\n",
       "      <td>123487</td>\n",
       "      <td>0.452813</td>\n",
       "    </tr>\n",
       "    <tr>\n",
       "      <th>5</th>\n",
       "      <td>R115</td>\n",
       "      <td>FA Product</td>\n",
       "      <td>1673</td>\n",
       "      <td>0.006135</td>\n",
       "    </tr>\n",
       "    <tr>\n",
       "      <th>6</th>\n",
       "      <td>R116</td>\n",
       "      <td>PA AE Product</td>\n",
       "      <td>8822</td>\n",
       "      <td>0.032349</td>\n",
       "    </tr>\n",
       "    <tr>\n",
       "      <th>7</th>\n",
       "      <td>R118</td>\n",
       "      <td>FA Product</td>\n",
       "      <td>2558</td>\n",
       "      <td>0.009380</td>\n",
       "    </tr>\n",
       "    <tr>\n",
       "      <th>8</th>\n",
       "      <td>R119</td>\n",
       "      <td>FA Product</td>\n",
       "      <td>20263</td>\n",
       "      <td>0.074302</td>\n",
       "    </tr>\n",
       "    <tr>\n",
       "      <th>9</th>\n",
       "      <td>R1TC</td>\n",
       "      <td>CS FA CP</td>\n",
       "      <td>129</td>\n",
       "      <td>0.000473</td>\n",
       "    </tr>\n",
       "    <tr>\n",
       "      <th>10</th>\n",
       "      <td>R1TF</td>\n",
       "      <td>CS FA</td>\n",
       "      <td>544</td>\n",
       "      <td>0.001995</td>\n",
       "    </tr>\n",
       "    <tr>\n",
       "      <th>11</th>\n",
       "      <td>R1TP</td>\n",
       "      <td>CS PA</td>\n",
       "      <td>198</td>\n",
       "      <td>0.000726</td>\n",
       "    </tr>\n",
       "    <tr>\n",
       "      <th>12</th>\n",
       "      <td>R1VTSCE</td>\n",
       "      <td>CS FA SCE</td>\n",
       "      <td>1596</td>\n",
       "      <td>0.005852</td>\n",
       "    </tr>\n",
       "    <tr>\n",
       "      <th>13</th>\n",
       "      <td>R1VTTR</td>\n",
       "      <td>CS FA</td>\n",
       "      <td>1272</td>\n",
       "      <td>0.004664</td>\n",
       "    </tr>\n",
       "    <tr>\n",
       "      <th>14</th>\n",
       "      <td>R220</td>\n",
       "      <td>MC GMC</td>\n",
       "      <td>23750</td>\n",
       "      <td>0.087089</td>\n",
       "    </tr>\n",
       "    <tr>\n",
       "      <th>15</th>\n",
       "      <td>R251</td>\n",
       "      <td>FA PMA</td>\n",
       "      <td>27478</td>\n",
       "      <td>0.100759</td>\n",
       "    </tr>\n",
       "    <tr>\n",
       "      <th>16</th>\n",
       "      <td>R252</td>\n",
       "      <td>MC Crane</td>\n",
       "      <td>701</td>\n",
       "      <td>0.002570</td>\n",
       "    </tr>\n",
       "    <tr>\n",
       "      <th>17</th>\n",
       "      <td>R2S1MTS</td>\n",
       "      <td>CS MC</td>\n",
       "      <td>933</td>\n",
       "      <td>0.003421</td>\n",
       "    </tr>\n",
       "    <tr>\n",
       "      <th>18</th>\n",
       "      <td>R2S3</td>\n",
       "      <td>CS MC</td>\n",
       "      <td>1178</td>\n",
       "      <td>0.004320</td>\n",
       "    </tr>\n",
       "    <tr>\n",
       "      <th>19</th>\n",
       "      <td>R2S4</td>\n",
       "      <td>CS MC (LD Crane)</td>\n",
       "      <td>7</td>\n",
       "      <td>0.000026</td>\n",
       "    </tr>\n",
       "    <tr>\n",
       "      <th>20</th>\n",
       "      <td>R315</td>\n",
       "      <td>PA PP</td>\n",
       "      <td>6981</td>\n",
       "      <td>0.025599</td>\n",
       "    </tr>\n",
       "    <tr>\n",
       "      <th>21</th>\n",
       "      <td>R320</td>\n",
       "      <td>PA CI</td>\n",
       "      <td>11821</td>\n",
       "      <td>0.043346</td>\n",
       "    </tr>\n",
       "    <tr>\n",
       "      <th>22</th>\n",
       "      <td>R321</td>\n",
       "      <td>PA CI</td>\n",
       "      <td>1320</td>\n",
       "      <td>0.004840</td>\n",
       "    </tr>\n",
       "    <tr>\n",
       "      <th>23</th>\n",
       "      <td>R331</td>\n",
       "      <td>PA AE Solution</td>\n",
       "      <td>206</td>\n",
       "      <td>0.000755</td>\n",
       "    </tr>\n",
       "    <tr>\n",
       "      <th>24</th>\n",
       "      <td>R333</td>\n",
       "      <td>PA AE Solution</td>\n",
       "      <td>227</td>\n",
       "      <td>0.000832</td>\n",
       "    </tr>\n",
       "    <tr>\n",
       "      <th>25</th>\n",
       "      <td>R338</td>\n",
       "      <td>PA AE Product</td>\n",
       "      <td>4634</td>\n",
       "      <td>0.016992</td>\n",
       "    </tr>\n",
       "    <tr>\n",
       "      <th>26</th>\n",
       "      <td>R3P3</td>\n",
       "      <td>PA PI</td>\n",
       "      <td>0</td>\n",
       "      <td>0.000000</td>\n",
       "    </tr>\n",
       "    <tr>\n",
       "      <th>27</th>\n",
       "      <td>R711</td>\n",
       "      <td>CP CP</td>\n",
       "      <td>8932</td>\n",
       "      <td>0.032753</td>\n",
       "    </tr>\n",
       "    <tr>\n",
       "      <th>28</th>\n",
       "      <td>R827</td>\n",
       "      <td>MC GM</td>\n",
       "      <td>623</td>\n",
       "      <td>0.002284</td>\n",
       "    </tr>\n",
       "    <tr>\n",
       "      <th>29</th>\n",
       "      <td>CP CP</td>\n",
       "      <td>CP</td>\n",
       "      <td>8932</td>\n",
       "      <td>0.032753</td>\n",
       "    </tr>\n",
       "    <tr>\n",
       "      <th>30</th>\n",
       "      <td>CS FA</td>\n",
       "      <td>CS</td>\n",
       "      <td>1816</td>\n",
       "      <td>0.006659</td>\n",
       "    </tr>\n",
       "    <tr>\n",
       "      <th>31</th>\n",
       "      <td>CS FA CP</td>\n",
       "      <td>CS</td>\n",
       "      <td>129</td>\n",
       "      <td>0.000473</td>\n",
       "    </tr>\n",
       "    <tr>\n",
       "      <th>32</th>\n",
       "      <td>CS FA SCE</td>\n",
       "      <td>CS</td>\n",
       "      <td>1596</td>\n",
       "      <td>0.005852</td>\n",
       "    </tr>\n",
       "    <tr>\n",
       "      <th>33</th>\n",
       "      <td>CS MC</td>\n",
       "      <td>CS</td>\n",
       "      <td>2111</td>\n",
       "      <td>0.007741</td>\n",
       "    </tr>\n",
       "    <tr>\n",
       "      <th>34</th>\n",
       "      <td>CS MC (LD Crane)</td>\n",
       "      <td>CS</td>\n",
       "      <td>7</td>\n",
       "      <td>0.000026</td>\n",
       "    </tr>\n",
       "    <tr>\n",
       "      <th>35</th>\n",
       "      <td>CS MC (LD P)</td>\n",
       "      <td>CS</td>\n",
       "      <td>1782</td>\n",
       "      <td>0.006534</td>\n",
       "    </tr>\n",
       "    <tr>\n",
       "      <th>36</th>\n",
       "      <td>CS PA</td>\n",
       "      <td>CS</td>\n",
       "      <td>198</td>\n",
       "      <td>0.000726</td>\n",
       "    </tr>\n",
       "    <tr>\n",
       "      <th>37</th>\n",
       "      <td>FA PMA</td>\n",
       "      <td>FA</td>\n",
       "      <td>27478</td>\n",
       "      <td>0.100759</td>\n",
       "    </tr>\n",
       "    <tr>\n",
       "      <th>38</th>\n",
       "      <td>FA Product</td>\n",
       "      <td>FA</td>\n",
       "      <td>147981</td>\n",
       "      <td>0.542629</td>\n",
       "    </tr>\n",
       "    <tr>\n",
       "      <th>39</th>\n",
       "      <td>MC Crane</td>\n",
       "      <td>MC</td>\n",
       "      <td>701</td>\n",
       "      <td>0.002570</td>\n",
       "    </tr>\n",
       "    <tr>\n",
       "      <th>40</th>\n",
       "      <td>MC GM</td>\n",
       "      <td>MC</td>\n",
       "      <td>623</td>\n",
       "      <td>0.002284</td>\n",
       "    </tr>\n",
       "    <tr>\n",
       "      <th>41</th>\n",
       "      <td>MC GMC</td>\n",
       "      <td>MC</td>\n",
       "      <td>23750</td>\n",
       "      <td>0.087089</td>\n",
       "    </tr>\n",
       "    <tr>\n",
       "      <th>42</th>\n",
       "      <td>MC GMC (P122)</td>\n",
       "      <td>MC</td>\n",
       "      <td>11609</td>\n",
       "      <td>0.042569</td>\n",
       "    </tr>\n",
       "    <tr>\n",
       "      <th>43</th>\n",
       "      <td>MC LVM ( P113 + P127)</td>\n",
       "      <td>MC</td>\n",
       "      <td>9616</td>\n",
       "      <td>0.035261</td>\n",
       "    </tr>\n",
       "    <tr>\n",
       "      <th>44</th>\n",
       "      <td>Mindshpere</td>\n",
       "      <td>SW</td>\n",
       "      <td>371</td>\n",
       "      <td>0.001360</td>\n",
       "    </tr>\n",
       "    <tr>\n",
       "      <th>45</th>\n",
       "      <td>PA AE Product</td>\n",
       "      <td>PA</td>\n",
       "      <td>13456</td>\n",
       "      <td>0.049342</td>\n",
       "    </tr>\n",
       "    <tr>\n",
       "      <th>46</th>\n",
       "      <td>PA AE Solution</td>\n",
       "      <td>PA</td>\n",
       "      <td>433</td>\n",
       "      <td>0.001588</td>\n",
       "    </tr>\n",
       "    <tr>\n",
       "      <th>47</th>\n",
       "      <td>PA CI</td>\n",
       "      <td>PA</td>\n",
       "      <td>13141</td>\n",
       "      <td>0.048187</td>\n",
       "    </tr>\n",
       "    <tr>\n",
       "      <th>48</th>\n",
       "      <td>PA PI</td>\n",
       "      <td>PA</td>\n",
       "      <td>0</td>\n",
       "      <td>0.000000</td>\n",
       "    </tr>\n",
       "    <tr>\n",
       "      <th>49</th>\n",
       "      <td>PA PP</td>\n",
       "      <td>PA</td>\n",
       "      <td>6981</td>\n",
       "      <td>0.025599</td>\n",
       "    </tr>\n",
       "    <tr>\n",
       "      <th>50</th>\n",
       "      <td>CP</td>\n",
       "      <td>Total</td>\n",
       "      <td>8932</td>\n",
       "      <td>0.032753</td>\n",
       "    </tr>\n",
       "    <tr>\n",
       "      <th>51</th>\n",
       "      <td>CS</td>\n",
       "      <td>Total</td>\n",
       "      <td>7639</td>\n",
       "      <td>0.028011</td>\n",
       "    </tr>\n",
       "    <tr>\n",
       "      <th>52</th>\n",
       "      <td>FA</td>\n",
       "      <td>Total</td>\n",
       "      <td>175459</td>\n",
       "      <td>0.643388</td>\n",
       "    </tr>\n",
       "    <tr>\n",
       "      <th>53</th>\n",
       "      <td>MC</td>\n",
       "      <td>Total</td>\n",
       "      <td>46299</td>\n",
       "      <td>0.169773</td>\n",
       "    </tr>\n",
       "    <tr>\n",
       "      <th>54</th>\n",
       "      <td>PA</td>\n",
       "      <td>Total</td>\n",
       "      <td>34011</td>\n",
       "      <td>0.124714</td>\n",
       "    </tr>\n",
       "    <tr>\n",
       "      <th>55</th>\n",
       "      <td>SW</td>\n",
       "      <td>Total</td>\n",
       "      <td>371</td>\n",
       "      <td>0.001360</td>\n",
       "    </tr>\n",
       "    <tr>\n",
       "      <th>56</th>\n",
       "      <td>Total</td>\n",
       "      <td></td>\n",
       "      <td>272711</td>\n",
       "      <td>1.000000</td>\n",
       "    </tr>\n",
       "  </tbody>\n",
       "</table>\n",
       "</div>"
      ],
      "text/plain": [
       "                       id                 parent   value     color\n",
       "0                    P113  MC LVM ( P113 + P127)    9616  0.035261\n",
       "1                    P122          MC GMC (P122)   11609  0.042569\n",
       "2                    P1S3           CS MC (LD P)    1782  0.006534\n",
       "3                    P681             Mindshpere     371  0.001360\n",
       "4                    R111             FA Product  123487  0.452813\n",
       "5                    R115             FA Product    1673  0.006135\n",
       "6                    R116          PA AE Product    8822  0.032349\n",
       "7                    R118             FA Product    2558  0.009380\n",
       "8                    R119             FA Product   20263  0.074302\n",
       "9                    R1TC               CS FA CP     129  0.000473\n",
       "10                   R1TF                  CS FA     544  0.001995\n",
       "11                   R1TP                  CS PA     198  0.000726\n",
       "12                R1VTSCE              CS FA SCE    1596  0.005852\n",
       "13                 R1VTTR                  CS FA    1272  0.004664\n",
       "14                   R220                 MC GMC   23750  0.087089\n",
       "15                   R251                 FA PMA   27478  0.100759\n",
       "16                   R252               MC Crane     701  0.002570\n",
       "17                R2S1MTS                  CS MC     933  0.003421\n",
       "18                   R2S3                  CS MC    1178  0.004320\n",
       "19                   R2S4       CS MC (LD Crane)       7  0.000026\n",
       "20                   R315                  PA PP    6981  0.025599\n",
       "21                   R320                  PA CI   11821  0.043346\n",
       "22                   R321                  PA CI    1320  0.004840\n",
       "23                   R331         PA AE Solution     206  0.000755\n",
       "24                   R333         PA AE Solution     227  0.000832\n",
       "25                   R338          PA AE Product    4634  0.016992\n",
       "26                   R3P3                  PA PI       0  0.000000\n",
       "27                   R711                  CP CP    8932  0.032753\n",
       "28                   R827                  MC GM     623  0.002284\n",
       "29                  CP CP                     CP    8932  0.032753\n",
       "30                  CS FA                     CS    1816  0.006659\n",
       "31               CS FA CP                     CS     129  0.000473\n",
       "32              CS FA SCE                     CS    1596  0.005852\n",
       "33                  CS MC                     CS    2111  0.007741\n",
       "34       CS MC (LD Crane)                     CS       7  0.000026\n",
       "35           CS MC (LD P)                     CS    1782  0.006534\n",
       "36                  CS PA                     CS     198  0.000726\n",
       "37                 FA PMA                     FA   27478  0.100759\n",
       "38             FA Product                     FA  147981  0.542629\n",
       "39               MC Crane                     MC     701  0.002570\n",
       "40                  MC GM                     MC     623  0.002284\n",
       "41                 MC GMC                     MC   23750  0.087089\n",
       "42          MC GMC (P122)                     MC   11609  0.042569\n",
       "43  MC LVM ( P113 + P127)                     MC    9616  0.035261\n",
       "44             Mindshpere                     SW     371  0.001360\n",
       "45          PA AE Product                     PA   13456  0.049342\n",
       "46         PA AE Solution                     PA     433  0.001588\n",
       "47                  PA CI                     PA   13141  0.048187\n",
       "48                  PA PI                     PA       0  0.000000\n",
       "49                  PA PP                     PA    6981  0.025599\n",
       "50                     CP                  Total    8932  0.032753\n",
       "51                     CS                  Total    7639  0.028011\n",
       "52                     FA                  Total  175459  0.643388\n",
       "53                     MC                  Total   46299  0.169773\n",
       "54                     PA                  Total   34011  0.124714\n",
       "55                     SW                  Total     371  0.001360\n",
       "56                  Total                         272711  1.000000"
      ]
     },
     "execution_count": 134,
     "metadata": {},
     "output_type": "execute_result"
    }
   ],
   "source": [
    "levels = ['GCK', 'SEGMENT', 'DI_BU'] # levels used for the hierarchical chart\n",
    "value_column = 'OR_VALUE'\n",
    "\n",
    "def build_hierarchical_dataframe(frame, levels, value_column):\n",
    "    df = frame[levels+[value_column]].copy()\n",
    "    df[value_column] = df[value_column].astype(int)\n",
    "    total_sum = df[value_column].sum()\n",
    "    \n",
    "    df_all_trees = pd.DataFrame(columns=['id', 'parent', 'value', 'color'])\n",
    "    for i, level in enumerate(levels):\n",
    "        df_tree = pd.DataFrame(columns=['id', 'parent', 'value', 'color'])\n",
    "        dfg = df.groupby(levels[i:]).sum(numerical_only=True)\n",
    "        dfg = dfg.reset_index()\n",
    "        df_tree['id'] = dfg[level].copy()\n",
    "        if i < len(levels) - 1:\n",
    "            df_tree['parent'] = dfg[levels[i+1]].copy()\n",
    "        else:\n",
    "            df_tree['parent'] = 'Total'\n",
    "        df_tree['value'] = dfg[value_column]\n",
    "        df_tree['color'] = dfg[value_column] / total_sum\n",
    "        df_all_trees = df_all_trees.append(df_tree, ignore_index=True)\n",
    "    total = pd.Series(dict(id='Total', parent='', \n",
    "                              value=total_sum,\n",
    "                              color=1))\n",
    "    df_all_trees = df_all_trees.append(total, ignore_index=True)\n",
    "    return df_all_trees\n",
    "\n",
    "df = frame.copy()\n",
    "df = df[df.DI_BU.isin(['FA', 'MC', 'PA', 'SW', 'CP'])]\n",
    "df.loc[df.SEGMENT.str.contains('CS'), \"DI_BU\"] = \"CS\"\n",
    "df.loc[df.DI_BU=='CP', \"SEGMENT\"] = \"CP CP\"\n",
    "df_all_trees = build_hierarchical_dataframe(df.fillna(\"#\"), levels, value_column)\n",
    "df_all_trees"
   ]
  },
  {
   "cell_type": "code",
   "execution_count": 144,
   "metadata": {},
   "outputs": [
    {
     "data": {
      "application/vnd.plotly.v1+json": {
       "config": {
        "plotlyServerURL": "https://plot.ly"
       },
       "data": [
        {
         "branchvalues": "total",
         "hovertemplate": "<b>%{label} </b> <br> OR: %{value}<br> OR rate: %{meta:.2%}",
         "labels": [
          "P113",
          "P122",
          "P1S3",
          "P681",
          "R111",
          "R115",
          "R116",
          "R118",
          "R119",
          "R1TC",
          "R1TF",
          "R1TP",
          "R1VTSCE",
          "R1VTTR",
          "R220",
          "R251",
          "R252",
          "R2S1MTS",
          "R2S3",
          "R2S4",
          "R315",
          "R320",
          "R321",
          "R331",
          "R333",
          "R338",
          "R3P3",
          "R711",
          "R827",
          "CP CP",
          "CS FA",
          "CS FA CP",
          "CS FA SCE",
          "CS MC",
          "CS MC (LD Crane)",
          "CS MC (LD P)",
          "CS PA",
          "FA PMA",
          "FA Product",
          "MC Crane",
          "MC GM",
          "MC GMC",
          "MC GMC (P122)",
          "MC LVM ( P113 + P127)",
          "Mindshpere",
          "PA AE Product",
          "PA AE Solution",
          "PA CI",
          "PA PI",
          "PA PP",
          "CP",
          "CS",
          "FA",
          "MC",
          "PA",
          "SW",
          "Total"
         ],
         "meta": [
          0.03526077055931004,
          0.04256887327610547,
          0.006534389885263154,
          0.0013604145047321156,
          0.4528126844901746,
          0.0061346993703957665,
          0.03234926350605586,
          0.00937989300028235,
          0.0743021000253015,
          0.00047302822401736636,
          0.0019947856888794364,
          0.0007260433205847949,
          0.005852349190168347,
          0.004664278301938682,
          0.0870885296156004,
          0.10075867860115653,
          0.0025704867057067737,
          0.0034212041318465334,
          0.00431959106893378,
          2.5668198202492747e-05,
          0.02559852737880027,
          0.043346252993095254,
          0.0048402888038986324,
          0.0007553784042447866,
          0.0008323829988522649,
          0.0169923472100502,
          0,
          0.032752620906380744,
          0.0022844696400218544,
          0.032752620906380744,
          0.006659063990818119,
          0.00047302822401736636,
          0.005852349190168347,
          0.007740795200780313,
          2.5668198202492747e-05,
          0.006534389885263154,
          0.0007260433205847949,
          0.10075867860115653,
          0.5426293768861542,
          0.0025704867057067737,
          0.0022844696400218544,
          0.0870885296156004,
          0.04256887327610547,
          0.03526077055931004,
          0.0013604145047321156,
          0.049341610716106064,
          0.0015877614030970514,
          0.04818654179699389,
          0,
          0.02559852737880027,
          0.032752620906380744,
          0.028011338009834588,
          0.6433880554873107,
          0.16977312979674453,
          0.12471444129499727,
          0.0013604145047321156,
          1
         ],
         "name": "",
         "parents": [
          "MC LVM ( P113 + P127)",
          "MC GMC (P122)",
          "CS MC (LD P)",
          "Mindshpere",
          "FA Product",
          "FA Product",
          "PA AE Product",
          "FA Product",
          "FA Product",
          "CS FA CP",
          "CS FA",
          "CS PA",
          "CS FA SCE",
          "CS FA",
          "MC GMC",
          "FA PMA",
          "MC Crane",
          "CS MC",
          "CS MC",
          "CS MC (LD Crane)",
          "PA PP",
          "PA CI",
          "PA CI",
          "PA AE Solution",
          "PA AE Solution",
          "PA AE Product",
          "PA PI",
          "CP CP",
          "MC GM",
          "CP",
          "CS",
          "CS",
          "CS",
          "CS",
          "CS",
          "CS",
          "CS",
          "FA",
          "FA",
          "MC",
          "MC",
          "MC",
          "MC",
          "MC",
          "SW",
          "PA",
          "PA",
          "PA",
          "PA",
          "PA",
          "Total",
          "Total",
          "Total",
          "Total",
          "Total",
          "Total",
          ""
         ],
         "type": "sunburst",
         "values": [
          9616,
          11609,
          1782,
          371,
          123487,
          1673,
          8822,
          2558,
          20263,
          129,
          544,
          198,
          1596,
          1272,
          23750,
          27478,
          701,
          933,
          1178,
          7,
          6981,
          11821,
          1320,
          206,
          227,
          4634,
          0,
          8932,
          623,
          8932,
          1816,
          129,
          1596,
          2111,
          7,
          1782,
          198,
          27478,
          147981,
          701,
          623,
          23750,
          11609,
          9616,
          371,
          13456,
          433,
          13141,
          0,
          6981,
          8932,
          7639,
          175459,
          46299,
          34011,
          371,
          272711
         ]
        }
       ],
       "layout": {
        "margin": {
         "b": 0,
         "l": 0,
         "r": 0,
         "t": 0
        },
        "template": {
         "data": {
          "bar": [
           {
            "error_x": {
             "color": "#2a3f5f"
            },
            "error_y": {
             "color": "#2a3f5f"
            },
            "marker": {
             "line": {
              "color": "#E5ECF6",
              "width": 0.5
             }
            },
            "type": "bar"
           }
          ],
          "barpolar": [
           {
            "marker": {
             "line": {
              "color": "#E5ECF6",
              "width": 0.5
             }
            },
            "type": "barpolar"
           }
          ],
          "carpet": [
           {
            "aaxis": {
             "endlinecolor": "#2a3f5f",
             "gridcolor": "white",
             "linecolor": "white",
             "minorgridcolor": "white",
             "startlinecolor": "#2a3f5f"
            },
            "baxis": {
             "endlinecolor": "#2a3f5f",
             "gridcolor": "white",
             "linecolor": "white",
             "minorgridcolor": "white",
             "startlinecolor": "#2a3f5f"
            },
            "type": "carpet"
           }
          ],
          "choropleth": [
           {
            "colorbar": {
             "outlinewidth": 0,
             "ticks": ""
            },
            "type": "choropleth"
           }
          ],
          "contour": [
           {
            "colorbar": {
             "outlinewidth": 0,
             "ticks": ""
            },
            "colorscale": [
             [
              0,
              "#0d0887"
             ],
             [
              0.1111111111111111,
              "#46039f"
             ],
             [
              0.2222222222222222,
              "#7201a8"
             ],
             [
              0.3333333333333333,
              "#9c179e"
             ],
             [
              0.4444444444444444,
              "#bd3786"
             ],
             [
              0.5555555555555556,
              "#d8576b"
             ],
             [
              0.6666666666666666,
              "#ed7953"
             ],
             [
              0.7777777777777778,
              "#fb9f3a"
             ],
             [
              0.8888888888888888,
              "#fdca26"
             ],
             [
              1,
              "#f0f921"
             ]
            ],
            "type": "contour"
           }
          ],
          "contourcarpet": [
           {
            "colorbar": {
             "outlinewidth": 0,
             "ticks": ""
            },
            "type": "contourcarpet"
           }
          ],
          "heatmap": [
           {
            "colorbar": {
             "outlinewidth": 0,
             "ticks": ""
            },
            "colorscale": [
             [
              0,
              "#0d0887"
             ],
             [
              0.1111111111111111,
              "#46039f"
             ],
             [
              0.2222222222222222,
              "#7201a8"
             ],
             [
              0.3333333333333333,
              "#9c179e"
             ],
             [
              0.4444444444444444,
              "#bd3786"
             ],
             [
              0.5555555555555556,
              "#d8576b"
             ],
             [
              0.6666666666666666,
              "#ed7953"
             ],
             [
              0.7777777777777778,
              "#fb9f3a"
             ],
             [
              0.8888888888888888,
              "#fdca26"
             ],
             [
              1,
              "#f0f921"
             ]
            ],
            "type": "heatmap"
           }
          ],
          "heatmapgl": [
           {
            "colorbar": {
             "outlinewidth": 0,
             "ticks": ""
            },
            "colorscale": [
             [
              0,
              "#0d0887"
             ],
             [
              0.1111111111111111,
              "#46039f"
             ],
             [
              0.2222222222222222,
              "#7201a8"
             ],
             [
              0.3333333333333333,
              "#9c179e"
             ],
             [
              0.4444444444444444,
              "#bd3786"
             ],
             [
              0.5555555555555556,
              "#d8576b"
             ],
             [
              0.6666666666666666,
              "#ed7953"
             ],
             [
              0.7777777777777778,
              "#fb9f3a"
             ],
             [
              0.8888888888888888,
              "#fdca26"
             ],
             [
              1,
              "#f0f921"
             ]
            ],
            "type": "heatmapgl"
           }
          ],
          "histogram": [
           {
            "marker": {
             "colorbar": {
              "outlinewidth": 0,
              "ticks": ""
             }
            },
            "type": "histogram"
           }
          ],
          "histogram2d": [
           {
            "colorbar": {
             "outlinewidth": 0,
             "ticks": ""
            },
            "colorscale": [
             [
              0,
              "#0d0887"
             ],
             [
              0.1111111111111111,
              "#46039f"
             ],
             [
              0.2222222222222222,
              "#7201a8"
             ],
             [
              0.3333333333333333,
              "#9c179e"
             ],
             [
              0.4444444444444444,
              "#bd3786"
             ],
             [
              0.5555555555555556,
              "#d8576b"
             ],
             [
              0.6666666666666666,
              "#ed7953"
             ],
             [
              0.7777777777777778,
              "#fb9f3a"
             ],
             [
              0.8888888888888888,
              "#fdca26"
             ],
             [
              1,
              "#f0f921"
             ]
            ],
            "type": "histogram2d"
           }
          ],
          "histogram2dcontour": [
           {
            "colorbar": {
             "outlinewidth": 0,
             "ticks": ""
            },
            "colorscale": [
             [
              0,
              "#0d0887"
             ],
             [
              0.1111111111111111,
              "#46039f"
             ],
             [
              0.2222222222222222,
              "#7201a8"
             ],
             [
              0.3333333333333333,
              "#9c179e"
             ],
             [
              0.4444444444444444,
              "#bd3786"
             ],
             [
              0.5555555555555556,
              "#d8576b"
             ],
             [
              0.6666666666666666,
              "#ed7953"
             ],
             [
              0.7777777777777778,
              "#fb9f3a"
             ],
             [
              0.8888888888888888,
              "#fdca26"
             ],
             [
              1,
              "#f0f921"
             ]
            ],
            "type": "histogram2dcontour"
           }
          ],
          "mesh3d": [
           {
            "colorbar": {
             "outlinewidth": 0,
             "ticks": ""
            },
            "type": "mesh3d"
           }
          ],
          "parcoords": [
           {
            "line": {
             "colorbar": {
              "outlinewidth": 0,
              "ticks": ""
             }
            },
            "type": "parcoords"
           }
          ],
          "scatter": [
           {
            "marker": {
             "colorbar": {
              "outlinewidth": 0,
              "ticks": ""
             }
            },
            "type": "scatter"
           }
          ],
          "scatter3d": [
           {
            "line": {
             "colorbar": {
              "outlinewidth": 0,
              "ticks": ""
             }
            },
            "marker": {
             "colorbar": {
              "outlinewidth": 0,
              "ticks": ""
             }
            },
            "type": "scatter3d"
           }
          ],
          "scattercarpet": [
           {
            "marker": {
             "colorbar": {
              "outlinewidth": 0,
              "ticks": ""
             }
            },
            "type": "scattercarpet"
           }
          ],
          "scattergeo": [
           {
            "marker": {
             "colorbar": {
              "outlinewidth": 0,
              "ticks": ""
             }
            },
            "type": "scattergeo"
           }
          ],
          "scattergl": [
           {
            "marker": {
             "colorbar": {
              "outlinewidth": 0,
              "ticks": ""
             }
            },
            "type": "scattergl"
           }
          ],
          "scattermapbox": [
           {
            "marker": {
             "colorbar": {
              "outlinewidth": 0,
              "ticks": ""
             }
            },
            "type": "scattermapbox"
           }
          ],
          "scatterpolar": [
           {
            "marker": {
             "colorbar": {
              "outlinewidth": 0,
              "ticks": ""
             }
            },
            "type": "scatterpolar"
           }
          ],
          "scatterpolargl": [
           {
            "marker": {
             "colorbar": {
              "outlinewidth": 0,
              "ticks": ""
             }
            },
            "type": "scatterpolargl"
           }
          ],
          "scatterternary": [
           {
            "marker": {
             "colorbar": {
              "outlinewidth": 0,
              "ticks": ""
             }
            },
            "type": "scatterternary"
           }
          ],
          "surface": [
           {
            "colorbar": {
             "outlinewidth": 0,
             "ticks": ""
            },
            "colorscale": [
             [
              0,
              "#0d0887"
             ],
             [
              0.1111111111111111,
              "#46039f"
             ],
             [
              0.2222222222222222,
              "#7201a8"
             ],
             [
              0.3333333333333333,
              "#9c179e"
             ],
             [
              0.4444444444444444,
              "#bd3786"
             ],
             [
              0.5555555555555556,
              "#d8576b"
             ],
             [
              0.6666666666666666,
              "#ed7953"
             ],
             [
              0.7777777777777778,
              "#fb9f3a"
             ],
             [
              0.8888888888888888,
              "#fdca26"
             ],
             [
              1,
              "#f0f921"
             ]
            ],
            "type": "surface"
           }
          ],
          "table": [
           {
            "cells": {
             "fill": {
              "color": "#EBF0F8"
             },
             "line": {
              "color": "white"
             }
            },
            "header": {
             "fill": {
              "color": "#C8D4E3"
             },
             "line": {
              "color": "white"
             }
            },
            "type": "table"
           }
          ]
         },
         "layout": {
          "annotationdefaults": {
           "arrowcolor": "#2a3f5f",
           "arrowhead": 0,
           "arrowwidth": 1
          },
          "colorscale": {
           "diverging": [
            [
             0,
             "#8e0152"
            ],
            [
             0.1,
             "#c51b7d"
            ],
            [
             0.2,
             "#de77ae"
            ],
            [
             0.3,
             "#f1b6da"
            ],
            [
             0.4,
             "#fde0ef"
            ],
            [
             0.5,
             "#f7f7f7"
            ],
            [
             0.6,
             "#e6f5d0"
            ],
            [
             0.7,
             "#b8e186"
            ],
            [
             0.8,
             "#7fbc41"
            ],
            [
             0.9,
             "#4d9221"
            ],
            [
             1,
             "#276419"
            ]
           ],
           "sequential": [
            [
             0,
             "#0d0887"
            ],
            [
             0.1111111111111111,
             "#46039f"
            ],
            [
             0.2222222222222222,
             "#7201a8"
            ],
            [
             0.3333333333333333,
             "#9c179e"
            ],
            [
             0.4444444444444444,
             "#bd3786"
            ],
            [
             0.5555555555555556,
             "#d8576b"
            ],
            [
             0.6666666666666666,
             "#ed7953"
            ],
            [
             0.7777777777777778,
             "#fb9f3a"
            ],
            [
             0.8888888888888888,
             "#fdca26"
            ],
            [
             1,
             "#f0f921"
            ]
           ],
           "sequentialminus": [
            [
             0,
             "#0d0887"
            ],
            [
             0.1111111111111111,
             "#46039f"
            ],
            [
             0.2222222222222222,
             "#7201a8"
            ],
            [
             0.3333333333333333,
             "#9c179e"
            ],
            [
             0.4444444444444444,
             "#bd3786"
            ],
            [
             0.5555555555555556,
             "#d8576b"
            ],
            [
             0.6666666666666666,
             "#ed7953"
            ],
            [
             0.7777777777777778,
             "#fb9f3a"
            ],
            [
             0.8888888888888888,
             "#fdca26"
            ],
            [
             1,
             "#f0f921"
            ]
           ]
          },
          "colorway": [
           "#636efa",
           "#EF553B",
           "#00cc96",
           "#ab63fa",
           "#FFA15A",
           "#19d3f3",
           "#FF6692",
           "#B6E880",
           "#FF97FF",
           "#FECB52"
          ],
          "font": {
           "color": "#2a3f5f"
          },
          "geo": {
           "bgcolor": "white",
           "lakecolor": "white",
           "landcolor": "#E5ECF6",
           "showlakes": true,
           "showland": true,
           "subunitcolor": "white"
          },
          "hoverlabel": {
           "align": "left"
          },
          "hovermode": "closest",
          "mapbox": {
           "style": "light"
          },
          "paper_bgcolor": "white",
          "plot_bgcolor": "#E5ECF6",
          "polar": {
           "angularaxis": {
            "gridcolor": "white",
            "linecolor": "white",
            "ticks": ""
           },
           "bgcolor": "#E5ECF6",
           "radialaxis": {
            "gridcolor": "white",
            "linecolor": "white",
            "ticks": ""
           }
          },
          "scene": {
           "xaxis": {
            "backgroundcolor": "#E5ECF6",
            "gridcolor": "white",
            "gridwidth": 2,
            "linecolor": "white",
            "showbackground": true,
            "ticks": "",
            "zerolinecolor": "white"
           },
           "yaxis": {
            "backgroundcolor": "#E5ECF6",
            "gridcolor": "white",
            "gridwidth": 2,
            "linecolor": "white",
            "showbackground": true,
            "ticks": "",
            "zerolinecolor": "white"
           },
           "zaxis": {
            "backgroundcolor": "#E5ECF6",
            "gridcolor": "white",
            "gridwidth": 2,
            "linecolor": "white",
            "showbackground": true,
            "ticks": "",
            "zerolinecolor": "white"
           }
          },
          "shapedefaults": {
           "line": {
            "color": "#2a3f5f"
           }
          },
          "ternary": {
           "aaxis": {
            "gridcolor": "white",
            "linecolor": "white",
            "ticks": ""
           },
           "baxis": {
            "gridcolor": "white",
            "linecolor": "white",
            "ticks": ""
           },
           "bgcolor": "#E5ECF6",
           "caxis": {
            "gridcolor": "white",
            "linecolor": "white",
            "ticks": ""
           }
          },
          "title": {
           "x": 0.05
          },
          "xaxis": {
           "automargin": true,
           "gridcolor": "white",
           "linecolor": "white",
           "ticks": "",
           "zerolinecolor": "white",
           "zerolinewidth": 2
          },
          "yaxis": {
           "automargin": true,
           "gridcolor": "white",
           "linecolor": "white",
           "ticks": "",
           "zerolinecolor": "white",
           "zerolinewidth": 2
          }
         }
        }
       }
      },
      "text/html": [
       "<div>\n",
       "        \n",
       "        \n",
       "            <div id=\"6f88988f-9481-4254-a032-7996fa6390e4\" class=\"plotly-graph-div\" style=\"height:525px; width:100%;\"></div>\n",
       "            <script type=\"text/javascript\">\n",
       "                require([\"plotly\"], function(Plotly) {\n",
       "                    window.PLOTLYENV=window.PLOTLYENV || {};\n",
       "                    \n",
       "                if (document.getElementById(\"6f88988f-9481-4254-a032-7996fa6390e4\")) {\n",
       "                    Plotly.newPlot(\n",
       "                        '6f88988f-9481-4254-a032-7996fa6390e4',\n",
       "                        [{\"branchvalues\": \"total\", \"hovertemplate\": \"<b>%{label} </b> <br> OR: %{value}<br> OR rate: %{meta:.2%}\", \"labels\": [\"P113\", \"P122\", \"P1S3\", \"P681\", \"R111\", \"R115\", \"R116\", \"R118\", \"R119\", \"R1TC\", \"R1TF\", \"R1TP\", \"R1VTSCE\", \"R1VTTR\", \"R220\", \"R251\", \"R252\", \"R2S1MTS\", \"R2S3\", \"R2S4\", \"R315\", \"R320\", \"R321\", \"R331\", \"R333\", \"R338\", \"R3P3\", \"R711\", \"R827\", \"CP CP\", \"CS FA\", \"CS FA CP\", \"CS FA SCE\", \"CS MC\", \"CS MC (LD Crane)\", \"CS MC (LD P)\", \"CS PA\", \"FA PMA\", \"FA Product\", \"MC Crane\", \"MC GM\", \"MC GMC\", \"MC GMC (P122)\", \"MC LVM ( P113 + P127)\", \"Mindshpere\", \"PA AE Product\", \"PA AE Solution\", \"PA CI\", \"PA PI\", \"PA PP\", \"CP\", \"CS\", \"FA\", \"MC\", \"PA\", \"SW\", \"Total\"], \"meta\": [0.03526077055931004, 0.04256887327610547, 0.006534389885263154, 0.0013604145047321156, 0.4528126844901746, 0.0061346993703957665, 0.03234926350605586, 0.00937989300028235, 0.0743021000253015, 0.00047302822401736636, 0.0019947856888794364, 0.0007260433205847949, 0.005852349190168347, 0.004664278301938682, 0.0870885296156004, 0.10075867860115653, 0.0025704867057067737, 0.0034212041318465334, 0.00431959106893378, 2.5668198202492747e-05, 0.02559852737880027, 0.043346252993095254, 0.0048402888038986324, 0.0007553784042447866, 0.0008323829988522649, 0.0169923472100502, 0.0, 0.032752620906380744, 0.0022844696400218544, 0.032752620906380744, 0.006659063990818119, 0.00047302822401736636, 0.005852349190168347, 0.007740795200780313, 2.5668198202492747e-05, 0.006534389885263154, 0.0007260433205847949, 0.10075867860115653, 0.5426293768861542, 0.0025704867057067737, 0.0022844696400218544, 0.0870885296156004, 0.04256887327610547, 0.03526077055931004, 0.0013604145047321156, 0.049341610716106064, 0.0015877614030970514, 0.04818654179699389, 0.0, 0.02559852737880027, 0.032752620906380744, 0.028011338009834588, 0.6433880554873107, 0.16977312979674453, 0.12471444129499727, 0.0013604145047321156, 1.0], \"name\": \"\", \"parents\": [\"MC LVM ( P113 + P127)\", \"MC GMC (P122)\", \"CS MC (LD P)\", \"Mindshpere\", \"FA Product\", \"FA Product\", \"PA AE Product\", \"FA Product\", \"FA Product\", \"CS FA CP\", \"CS FA\", \"CS PA\", \"CS FA SCE\", \"CS FA\", \"MC GMC\", \"FA PMA\", \"MC Crane\", \"CS MC\", \"CS MC\", \"CS MC (LD Crane)\", \"PA PP\", \"PA CI\", \"PA CI\", \"PA AE Solution\", \"PA AE Solution\", \"PA AE Product\", \"PA PI\", \"CP CP\", \"MC GM\", \"CP\", \"CS\", \"CS\", \"CS\", \"CS\", \"CS\", \"CS\", \"CS\", \"FA\", \"FA\", \"MC\", \"MC\", \"MC\", \"MC\", \"MC\", \"SW\", \"PA\", \"PA\", \"PA\", \"PA\", \"PA\", \"Total\", \"Total\", \"Total\", \"Total\", \"Total\", \"Total\", \"\"], \"type\": \"sunburst\", \"values\": [9616, 11609, 1782, 371, 123487, 1673, 8822, 2558, 20263, 129, 544, 198, 1596, 1272, 23750, 27478, 701, 933, 1178, 7, 6981, 11821, 1320, 206, 227, 4634, 0, 8932, 623, 8932, 1816, 129, 1596, 2111, 7, 1782, 198, 27478, 147981, 701, 623, 23750, 11609, 9616, 371, 13456, 433, 13141, 0, 6981, 8932, 7639, 175459, 46299, 34011, 371, 272711]}],\n",
       "                        {\"margin\": {\"b\": 0, \"l\": 0, \"r\": 0, \"t\": 0}, \"template\": {\"data\": {\"bar\": [{\"error_x\": {\"color\": \"#2a3f5f\"}, \"error_y\": {\"color\": \"#2a3f5f\"}, \"marker\": {\"line\": {\"color\": \"#E5ECF6\", \"width\": 0.5}}, \"type\": \"bar\"}], \"barpolar\": [{\"marker\": {\"line\": {\"color\": \"#E5ECF6\", \"width\": 0.5}}, \"type\": \"barpolar\"}], \"carpet\": [{\"aaxis\": {\"endlinecolor\": \"#2a3f5f\", \"gridcolor\": \"white\", \"linecolor\": \"white\", \"minorgridcolor\": \"white\", \"startlinecolor\": \"#2a3f5f\"}, \"baxis\": {\"endlinecolor\": \"#2a3f5f\", \"gridcolor\": \"white\", \"linecolor\": \"white\", \"minorgridcolor\": \"white\", \"startlinecolor\": \"#2a3f5f\"}, \"type\": \"carpet\"}], \"choropleth\": [{\"colorbar\": {\"outlinewidth\": 0, \"ticks\": \"\"}, \"type\": \"choropleth\"}], \"contour\": [{\"colorbar\": {\"outlinewidth\": 0, \"ticks\": \"\"}, \"colorscale\": [[0.0, \"#0d0887\"], [0.1111111111111111, \"#46039f\"], [0.2222222222222222, \"#7201a8\"], [0.3333333333333333, \"#9c179e\"], [0.4444444444444444, \"#bd3786\"], [0.5555555555555556, \"#d8576b\"], [0.6666666666666666, \"#ed7953\"], [0.7777777777777778, \"#fb9f3a\"], [0.8888888888888888, \"#fdca26\"], [1.0, \"#f0f921\"]], \"type\": \"contour\"}], \"contourcarpet\": [{\"colorbar\": {\"outlinewidth\": 0, \"ticks\": \"\"}, \"type\": \"contourcarpet\"}], \"heatmap\": [{\"colorbar\": {\"outlinewidth\": 0, \"ticks\": \"\"}, \"colorscale\": [[0.0, \"#0d0887\"], [0.1111111111111111, \"#46039f\"], [0.2222222222222222, \"#7201a8\"], [0.3333333333333333, \"#9c179e\"], [0.4444444444444444, \"#bd3786\"], [0.5555555555555556, \"#d8576b\"], [0.6666666666666666, \"#ed7953\"], [0.7777777777777778, \"#fb9f3a\"], [0.8888888888888888, \"#fdca26\"], [1.0, \"#f0f921\"]], \"type\": \"heatmap\"}], \"heatmapgl\": [{\"colorbar\": {\"outlinewidth\": 0, \"ticks\": \"\"}, \"colorscale\": [[0.0, \"#0d0887\"], [0.1111111111111111, \"#46039f\"], [0.2222222222222222, \"#7201a8\"], [0.3333333333333333, \"#9c179e\"], [0.4444444444444444, \"#bd3786\"], [0.5555555555555556, \"#d8576b\"], [0.6666666666666666, \"#ed7953\"], [0.7777777777777778, \"#fb9f3a\"], [0.8888888888888888, \"#fdca26\"], [1.0, \"#f0f921\"]], \"type\": \"heatmapgl\"}], \"histogram\": [{\"marker\": {\"colorbar\": {\"outlinewidth\": 0, \"ticks\": \"\"}}, \"type\": \"histogram\"}], \"histogram2d\": [{\"colorbar\": {\"outlinewidth\": 0, \"ticks\": \"\"}, \"colorscale\": [[0.0, \"#0d0887\"], [0.1111111111111111, \"#46039f\"], [0.2222222222222222, \"#7201a8\"], [0.3333333333333333, \"#9c179e\"], [0.4444444444444444, \"#bd3786\"], [0.5555555555555556, \"#d8576b\"], [0.6666666666666666, \"#ed7953\"], [0.7777777777777778, \"#fb9f3a\"], [0.8888888888888888, \"#fdca26\"], [1.0, \"#f0f921\"]], \"type\": \"histogram2d\"}], \"histogram2dcontour\": [{\"colorbar\": {\"outlinewidth\": 0, \"ticks\": \"\"}, \"colorscale\": [[0.0, \"#0d0887\"], [0.1111111111111111, \"#46039f\"], [0.2222222222222222, \"#7201a8\"], [0.3333333333333333, \"#9c179e\"], [0.4444444444444444, \"#bd3786\"], [0.5555555555555556, \"#d8576b\"], [0.6666666666666666, \"#ed7953\"], [0.7777777777777778, \"#fb9f3a\"], [0.8888888888888888, \"#fdca26\"], [1.0, \"#f0f921\"]], \"type\": \"histogram2dcontour\"}], \"mesh3d\": [{\"colorbar\": {\"outlinewidth\": 0, \"ticks\": \"\"}, \"type\": \"mesh3d\"}], \"parcoords\": [{\"line\": {\"colorbar\": {\"outlinewidth\": 0, \"ticks\": \"\"}}, \"type\": \"parcoords\"}], \"scatter\": [{\"marker\": {\"colorbar\": {\"outlinewidth\": 0, \"ticks\": \"\"}}, \"type\": \"scatter\"}], \"scatter3d\": [{\"line\": {\"colorbar\": {\"outlinewidth\": 0, \"ticks\": \"\"}}, \"marker\": {\"colorbar\": {\"outlinewidth\": 0, \"ticks\": \"\"}}, \"type\": \"scatter3d\"}], \"scattercarpet\": [{\"marker\": {\"colorbar\": {\"outlinewidth\": 0, \"ticks\": \"\"}}, \"type\": \"scattercarpet\"}], \"scattergeo\": [{\"marker\": {\"colorbar\": {\"outlinewidth\": 0, \"ticks\": \"\"}}, \"type\": \"scattergeo\"}], \"scattergl\": [{\"marker\": {\"colorbar\": {\"outlinewidth\": 0, \"ticks\": \"\"}}, \"type\": \"scattergl\"}], \"scattermapbox\": [{\"marker\": {\"colorbar\": {\"outlinewidth\": 0, \"ticks\": \"\"}}, \"type\": \"scattermapbox\"}], \"scatterpolar\": [{\"marker\": {\"colorbar\": {\"outlinewidth\": 0, \"ticks\": \"\"}}, \"type\": \"scatterpolar\"}], \"scatterpolargl\": [{\"marker\": {\"colorbar\": {\"outlinewidth\": 0, \"ticks\": \"\"}}, \"type\": \"scatterpolargl\"}], \"scatterternary\": [{\"marker\": {\"colorbar\": {\"outlinewidth\": 0, \"ticks\": \"\"}}, \"type\": \"scatterternary\"}], \"surface\": [{\"colorbar\": {\"outlinewidth\": 0, \"ticks\": \"\"}, \"colorscale\": [[0.0, \"#0d0887\"], [0.1111111111111111, \"#46039f\"], [0.2222222222222222, \"#7201a8\"], [0.3333333333333333, \"#9c179e\"], [0.4444444444444444, \"#bd3786\"], [0.5555555555555556, \"#d8576b\"], [0.6666666666666666, \"#ed7953\"], [0.7777777777777778, \"#fb9f3a\"], [0.8888888888888888, \"#fdca26\"], [1.0, \"#f0f921\"]], \"type\": \"surface\"}], \"table\": [{\"cells\": {\"fill\": {\"color\": \"#EBF0F8\"}, \"line\": {\"color\": \"white\"}}, \"header\": {\"fill\": {\"color\": \"#C8D4E3\"}, \"line\": {\"color\": \"white\"}}, \"type\": \"table\"}]}, \"layout\": {\"annotationdefaults\": {\"arrowcolor\": \"#2a3f5f\", \"arrowhead\": 0, \"arrowwidth\": 1}, \"colorscale\": {\"diverging\": [[0, \"#8e0152\"], [0.1, \"#c51b7d\"], [0.2, \"#de77ae\"], [0.3, \"#f1b6da\"], [0.4, \"#fde0ef\"], [0.5, \"#f7f7f7\"], [0.6, \"#e6f5d0\"], [0.7, \"#b8e186\"], [0.8, \"#7fbc41\"], [0.9, \"#4d9221\"], [1, \"#276419\"]], \"sequential\": [[0.0, \"#0d0887\"], [0.1111111111111111, \"#46039f\"], [0.2222222222222222, \"#7201a8\"], [0.3333333333333333, \"#9c179e\"], [0.4444444444444444, \"#bd3786\"], [0.5555555555555556, \"#d8576b\"], [0.6666666666666666, \"#ed7953\"], [0.7777777777777778, \"#fb9f3a\"], [0.8888888888888888, \"#fdca26\"], [1.0, \"#f0f921\"]], \"sequentialminus\": [[0.0, \"#0d0887\"], [0.1111111111111111, \"#46039f\"], [0.2222222222222222, \"#7201a8\"], [0.3333333333333333, \"#9c179e\"], [0.4444444444444444, \"#bd3786\"], [0.5555555555555556, \"#d8576b\"], [0.6666666666666666, \"#ed7953\"], [0.7777777777777778, \"#fb9f3a\"], [0.8888888888888888, \"#fdca26\"], [1.0, \"#f0f921\"]]}, \"colorway\": [\"#636efa\", \"#EF553B\", \"#00cc96\", \"#ab63fa\", \"#FFA15A\", \"#19d3f3\", \"#FF6692\", \"#B6E880\", \"#FF97FF\", \"#FECB52\"], \"font\": {\"color\": \"#2a3f5f\"}, \"geo\": {\"bgcolor\": \"white\", \"lakecolor\": \"white\", \"landcolor\": \"#E5ECF6\", \"showlakes\": true, \"showland\": true, \"subunitcolor\": \"white\"}, \"hoverlabel\": {\"align\": \"left\"}, \"hovermode\": \"closest\", \"mapbox\": {\"style\": \"light\"}, \"paper_bgcolor\": \"white\", \"plot_bgcolor\": \"#E5ECF6\", \"polar\": {\"angularaxis\": {\"gridcolor\": \"white\", \"linecolor\": \"white\", \"ticks\": \"\"}, \"bgcolor\": \"#E5ECF6\", \"radialaxis\": {\"gridcolor\": \"white\", \"linecolor\": \"white\", \"ticks\": \"\"}}, \"scene\": {\"xaxis\": {\"backgroundcolor\": \"#E5ECF6\", \"gridcolor\": \"white\", \"gridwidth\": 2, \"linecolor\": \"white\", \"showbackground\": true, \"ticks\": \"\", \"zerolinecolor\": \"white\"}, \"yaxis\": {\"backgroundcolor\": \"#E5ECF6\", \"gridcolor\": \"white\", \"gridwidth\": 2, \"linecolor\": \"white\", \"showbackground\": true, \"ticks\": \"\", \"zerolinecolor\": \"white\"}, \"zaxis\": {\"backgroundcolor\": \"#E5ECF6\", \"gridcolor\": \"white\", \"gridwidth\": 2, \"linecolor\": \"white\", \"showbackground\": true, \"ticks\": \"\", \"zerolinecolor\": \"white\"}}, \"shapedefaults\": {\"line\": {\"color\": \"#2a3f5f\"}}, \"ternary\": {\"aaxis\": {\"gridcolor\": \"white\", \"linecolor\": \"white\", \"ticks\": \"\"}, \"baxis\": {\"gridcolor\": \"white\", \"linecolor\": \"white\", \"ticks\": \"\"}, \"bgcolor\": \"#E5ECF6\", \"caxis\": {\"gridcolor\": \"white\", \"linecolor\": \"white\", \"ticks\": \"\"}}, \"title\": {\"x\": 0.05}, \"xaxis\": {\"automargin\": true, \"gridcolor\": \"white\", \"linecolor\": \"white\", \"ticks\": \"\", \"zerolinecolor\": \"white\", \"zerolinewidth\": 2}, \"yaxis\": {\"automargin\": true, \"gridcolor\": \"white\", \"linecolor\": \"white\", \"ticks\": \"\", \"zerolinecolor\": \"white\", \"zerolinewidth\": 2}}}},\n",
       "                        {\"responsive\": true}\n",
       "                    ).then(function(){\n",
       "                            \n",
       "var gd = document.getElementById('6f88988f-9481-4254-a032-7996fa6390e4');\n",
       "var x = new MutationObserver(function (mutations, observer) {{\n",
       "        var display = window.getComputedStyle(gd).display;\n",
       "        if (!display || display === 'none') {{\n",
       "            console.log([gd, 'removed!']);\n",
       "            Plotly.purge(gd);\n",
       "            observer.disconnect();\n",
       "        }}\n",
       "}});\n",
       "\n",
       "// Listen for the removal of the full notebook cells\n",
       "var notebookContainer = gd.closest('#notebook-container');\n",
       "if (notebookContainer) {{\n",
       "    x.observe(notebookContainer, {childList: true});\n",
       "}}\n",
       "\n",
       "// Listen for the clearing of the current output cell\n",
       "var outputEl = gd.closest('.output');\n",
       "if (outputEl) {{\n",
       "    x.observe(outputEl, {childList: true});\n",
       "}}\n",
       "\n",
       "                        })\n",
       "                };\n",
       "                });\n",
       "            </script>\n",
       "        </div>"
      ]
     },
     "metadata": {},
     "output_type": "display_data"
    }
   ],
   "source": [
    "fig =go.Figure(go.Sunburst(\n",
    "    labels=df_all_trees['id'],\n",
    "    parents=df_all_trees['parent'],\n",
    "    values=df_all_trees['value'],\n",
    "    branchvalues='total',\n",
    "    meta=df_all_trees['color'],\n",
    "    hovertemplate='<b>%{label} </b> <br> OR: %{value}<br> OR rate: %{meta:.2%}',\n",
    "    name=\"\" ))\n",
    "fig.update_layout(margin = dict(t=0, l=0, r=0, b=0))\n",
    "\n",
    "fig.show()"
   ]
  },
  {
   "cell_type": "code",
   "execution_count": 131,
   "metadata": {},
   "outputs": [
    {
     "data": {
      "text/plain": [
       "281.19"
      ]
     },
     "execution_count": 131,
     "metadata": {},
     "output_type": "execute_result"
    }
   ],
   "source": [
    "273*1.03\n"
   ]
  },
  {
   "cell_type": "code",
   "execution_count": null,
   "metadata": {},
   "outputs": [],
   "source": []
  }
 ],
 "metadata": {
  "kernelspec": {
   "display_name": "Python 3",
   "language": "python",
   "name": "python3"
  },
  "language_info": {
   "codemirror_mode": {
    "name": "ipython",
    "version": 3
   },
   "file_extension": ".py",
   "mimetype": "text/x-python",
   "name": "python",
   "nbconvert_exporter": "python",
   "pygments_lexer": "ipython3",
   "version": "3.7.4"
  }
 },
 "nbformat": 4,
 "nbformat_minor": 2
}
