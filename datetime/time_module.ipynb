{
 "cells": [
  {
   "cell_type": "markdown",
   "metadata": {},
   "source": [
    "# [A Beginner’s Guide to the Python time Module](https://realpython.com/python-time-module/)"
   ]
  },
  {
   "cell_type": "markdown",
   "metadata": {},
   "source": [
    "The Python `time` module provides many ways of representing time in code, such as objects, numbers, and strings. It also provides functionality other than representing time, like waiting during code execution and measuring the efficiency of your code.\n",
    "\n",
    "This article will walk you through the most commonly used functions and objects in `time`.\n",
    "\n",
    "** By the end of this article, you’ll be able to **:\n",
    "\n",
    "- **Understand** core concepts at the heart of working with dates and times, such as epochs, time zones, and daylight savings time\n",
    "- **Represent** time in code using floats, tuples, and `struct_time`\n",
    "- **Convert** between different time representations\n",
    "- **Suspend** thread execution\n",
    "- **Measure** code performance using `perf_counter()`\n",
    "\n",
    "You’ll start by learning how you can use a floating point number to represent time."
   ]
  },
  {
   "cell_type": "markdown",
   "metadata": {},
   "source": [
    "## Dealing With Python Time Using Seconds\n",
    "One of the ways you can manage the concept of Python time in your application is by using a floating point number that represents the number of seconds that have passed since the beginning of an era—that is, since a certain starting point.\n",
    "\n",
    "Let’s dive deeper into what that means, why it’s useful, and how you can use it to implement logic, based on Python time, in your application."
   ]
  },
  {
   "cell_type": "markdown",
   "metadata": {},
   "source": [
    "### The Epoch\n",
    "You learned in the previous section that you can manage Python time with a floating point number representing elapsed time since the beginning of an era.\n",
    "\n",
    "[Merriam-Webster](https://www.merriam-webster.com/dictionary/era) defines an era as:\n",
    "\n",
    "- A fixed point in time from which a series of years is reckoned\n",
    "- A system of chronological notation computed from a given date as basis\n",
    "\n",
    "The important concept to grasp here is that, when dealing with Python time, you’re considering a period of time identified by a starting point. In computing, you call this starting point the **epoch**.\n",
    "\n",
    "The epoch, then, is the starting point against which you can measure the passage of time.\n",
    "\n",
    "For example, if you define the epoch to be midnight on January 1, 1970 UTC—the epoch as defined on Windows and most UNIX systems—then you can represent midnight on January 2, 1970 UTC as 86400 seconds since the epoch.\n",
    "\n",
    "This is because there are 60 seconds in a minute, 60 minutes in an hour, and 24 hours in a day. January 2, 1970 UTC is only one day after the epoch, so you can apply basic math to arrive at that result:"
   ]
  },
  {
   "cell_type": "code",
   "execution_count": 2,
   "metadata": {},
   "outputs": [
    {
     "data": {
      "text/plain": [
       "86400"
      ]
     },
     "execution_count": 2,
     "metadata": {},
     "output_type": "execute_result"
    }
   ],
   "source": [
    "60 * 60 * 24"
   ]
  },
  {
   "cell_type": "markdown",
   "metadata": {},
   "source": [
    "It is also important to note that you can still represent time before the epoch. The number of seconds would just be negative.\n",
    "\n",
    "For example, you would represent midnight on December 31, 1969 UTC (using an epoch of January 1, 1970) as -86400 seconds.\n",
    "\n",
    "While January 1, 1970 UTC is a common epoch, it is not the only epoch used in computing. In fact, different operating systems, filesystems, and APIs sometimes use different epochs.\n",
    "\n",
    "As you saw before, UNIX systems define the epoch as January 1, 1970. The Win32 API, on the other hand, defines the epoch as [January 1, 1601](https://blogs.msdn.microsoft.com/oldnewthing/20090306-00/?p=18913/).\n",
    "\n",
    "You can use `time.gmtime()` to determine your system’s epoch:"
   ]
  },
  {
   "cell_type": "code",
   "execution_count": 4,
   "metadata": {},
   "outputs": [
    {
     "data": {
      "text/plain": [
       "time.struct_time(tm_year=1970, tm_mon=1, tm_mday=1, tm_hour=0, tm_min=0, tm_sec=0, tm_wday=3, tm_yday=1, tm_isdst=0)"
      ]
     },
     "execution_count": 4,
     "metadata": {},
     "output_type": "execute_result"
    }
   ],
   "source": [
    "import time\n",
    "time.gmtime(0)"
   ]
  },
  {
   "cell_type": "markdown",
   "metadata": {},
   "source": [
    "You’ll learn about `gmtime()` and `struct_time` throughout the course of this article. For now, just know that you can use time to discover the epoch using this function.\n",
    "\n",
    "Now that you understand more about how to measure time in seconds using an epoch, let’s take a look at Python’s time module to see what functions it offers that help you do so."
   ]
  },
  {
   "cell_type": "markdown",
   "metadata": {},
   "source": [
    "## Python Time in Seconds as a Floating Point Number\n",
    "First, `time.time()` returns the number of seconds that have passed since the epoch. The return value is a floating point number to account for fractional seconds:"
   ]
  },
  {
   "cell_type": "code",
   "execution_count": 12,
   "metadata": {},
   "outputs": [
    {
     "data": {
      "text/plain": [
       "1556073592.349807"
      ]
     },
     "execution_count": 12,
     "metadata": {},
     "output_type": "execute_result"
    }
   ],
   "source": [
    "from time import time\n",
    "time()"
   ]
  },
  {
   "cell_type": "code",
   "execution_count": null,
   "metadata": {},
   "outputs": [],
   "source": []
  }
 ],
 "metadata": {
  "kernelspec": {
   "display_name": "Python 3",
   "language": "python",
   "name": "python3"
  },
  "language_info": {
   "codemirror_mode": {
    "name": "ipython",
    "version": 3
   },
   "file_extension": ".py",
   "mimetype": "text/x-python",
   "name": "python",
   "nbconvert_exporter": "python",
   "pygments_lexer": "ipython3",
   "version": "3.7.1"
  }
 },
 "nbformat": 4,
 "nbformat_minor": 2
}
