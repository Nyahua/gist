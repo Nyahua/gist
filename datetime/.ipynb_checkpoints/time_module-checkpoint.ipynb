{
 "cells": [
  {
   "cell_type": "markdown",
   "metadata": {},
   "source": [
    "# [A Beginner’s Guide to the Python time Module](https://realpython.com/python-time-module/)"
   ]
  },
  {
   "cell_type": "markdown",
   "metadata": {},
   "source": [
    "The Python `time` module provides many ways of representing time in code, such as objects, numbers, and strings. It also provides functionality other than representing time, like waiting during code execution and measuring the efficiency of your code.\n",
    "\n",
    "This article will walk you through the most commonly used functions and objects in `time`.\n",
    "\n",
    "** By the end of this article, you’ll be able to **:\n",
    "\n",
    "- **Understand** core concepts at the heart of working with dates and times, such as epochs, time zones, and daylight savings time\n",
    "- **Represent** time in code using floats, tuples, and `struct_time`\n",
    "- **Convert** between different time representations\n",
    "- **Suspend** thread execution\n",
    "- **Measure** code performance using `perf_counter()`\n",
    "\n",
    "You’ll start by learning how you can use a floating point number to represent time."
   ]
  },
  {
   "cell_type": "markdown",
   "metadata": {},
   "source": [
    "## Dealing With Python Time Using Seconds\n",
    "One of the ways you can manage the concept of Python time in your application is by using a floating point number that represents the number of seconds that have passed since the beginning of an era—that is, since a certain starting point.\n",
    "\n",
    "Let’s dive deeper into what that means, why it’s useful, and how you can use it to implement logic, based on Python time, in your application."
   ]
  },
  {
   "cell_type": "markdown",
   "metadata": {},
   "source": [
    "### The Epoch\n",
    "You learned in the previous section that you can manage Python time with a floating point number representing elapsed time since the beginning of an era.\n",
    "\n",
    "[Merriam-Webster](https://www.merriam-webster.com/dictionary/era) defines an era as:\n",
    "\n",
    "- A fixed point in time from which a series of years is reckoned\n",
    "- A system of chronological notation computed from a given date as basis\n",
    "\n",
    "The important concept to grasp here is that, when dealing with Python time, you’re considering a period of time identified by a starting point. In computing, you call this starting point the **epoch**.\n",
    "\n",
    "The epoch, then, is the starting point against which you can measure the passage of time.\n",
    "\n",
    "For example, if you define the epoch to be midnight on January 1, 1970 UTC—the epoch as defined on Windows and most UNIX systems—then you can represent midnight on January 2, 1970 UTC as 86400 seconds since the epoch.\n",
    "\n",
    "This is because there are 60 seconds in a minute, 60 minutes in an hour, and 24 hours in a day. January 2, 1970 UTC is only one day after the epoch, so you can apply basic math to arrive at that result:"
   ]
  },
  {
   "cell_type": "markdown",
   "metadata": {},
   "source": []
  }
 ],
 "metadata": {
  "kernelspec": {
   "display_name": "Python 3",
   "language": "python",
   "name": "python3"
  },
  "language_info": {
   "codemirror_mode": {
    "name": "ipython",
    "version": 3
   },
   "file_extension": ".py",
   "mimetype": "text/x-python",
   "name": "python",
   "nbconvert_exporter": "python",
   "pygments_lexer": "ipython3",
   "version": "3.7.1"
  }
 },
 "nbformat": 4,
 "nbformat_minor": 2
}
