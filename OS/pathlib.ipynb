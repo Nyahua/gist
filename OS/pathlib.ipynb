{
 "cells": [
  {
   "cell_type": "markdown",
   "metadata": {},
   "source": [
    "# [Python 3's pathlib Module: Taming the File System](https://realpython.com/python-pathlib/)"
   ]
  },
  {
   "cell_type": "code",
   "execution_count": 6,
   "metadata": {},
   "outputs": [
    {
     "data": {
      "text/plain": [
       "WindowsPath('C:/Users/z0010d9y')"
      ]
     },
     "execution_count": 6,
     "metadata": {},
     "output_type": "execute_result"
    }
   ],
   "source": [
    "from pathlib import Path\n",
    "Path.home()"
   ]
  },
  {
   "cell_type": "markdown",
   "metadata": {},
   "source": [
    "## Reading and Writing Files"
   ]
  },
  {
   "cell_type": "code",
   "execution_count": 19,
   "metadata": {},
   "outputs": [
    {
     "data": {
      "text/plain": [
       "'# [cmder](http://cmder.net/) Tips \\n\\n## [keyboard shortcuts](hhttp://cmder.net/)\\n- Shell\\n>| key short| function|\\n>| ----------------------- |----------------------------|\\n>| Ctrl + Alt + u| Traverse up in directory structure (cd ..)|\\n>| End, Home, Ctrl|Traverse text as usual on Windows|\\n>| Shift + mouse  |Select and copy text from buffer|\\n>| Right click / Ctrl + Shift + v|Paste text |\\n>| Ctrl + r|History search|'"
      ]
     },
     "execution_count": 19,
     "metadata": {},
     "output_type": "execute_result"
    }
   ],
   "source": [
    "cwd = Path.cwd()\n",
    "cmder_md = cwd / 'cmder.md'\n",
    "cmder_md.read_text()"
   ]
  },
  {
   "cell_type": "code",
   "execution_count": 20,
   "metadata": {},
   "outputs": [
    {
     "data": {
      "text/plain": [
       "32"
      ]
     },
     "execution_count": 20,
     "metadata": {},
     "output_type": "execute_result"
    }
   ],
   "source": [
    "readme = cwd / 'readme.md'\n",
    "readme.write_text('# everything about OS programing')"
   ]
  },
  {
   "cell_type": "markdown",
   "metadata": {},
   "source": [
    "## Picking Out Components of a Path\n",
    "The different parts of a path are conveniently available as properties. Basic examples include:\n",
    "- `resolve`: the full path\n",
    "- `name`: the file name without any directory\n",
    "- `parent`: the directory containing the file, or the parent directory if path is a directory\n",
    "- `stem`: the file name without the suffix\n",
    "- `suffix`: the file extension\n",
    "- `anchor`: the part of the path before the directories"
   ]
  },
  {
   "cell_type": "code",
   "execution_count": 18,
   "metadata": {},
   "outputs": [
    {
     "data": {
      "text/plain": [
       "'D:\\\\'"
      ]
     },
     "execution_count": 18,
     "metadata": {},
     "output_type": "execute_result"
    }
   ],
   "source": [
    "readme.anchor"
   ]
  },
  {
   "cell_type": "markdown",
   "metadata": {},
   "source": [
    "## Moving and Deleting Files\n",
    "Through pathlib, you also have access to basic file system level operations like moving, updating, and even deleting files. For the most part, these methods **do not** give a warning or wait for confirmation before information or files are lost. Be careful when using these methods.\n",
    "\n",
    "To move a file, use `.replace()`. Note that if the destination already exists, `.replace()` will overwrite it. Unfortunately, `pathlib` does not explicitly support safe moving of files. To avoid possibly overwriting the destination path, the simplest is to test whether the destination exists before replacing:"
   ]
  },
  {
   "cell_type": "code",
   "execution_count": 22,
   "metadata": {},
   "outputs": [
    {
     "name": "stdout",
     "output_type": "stream",
     "text": [
      "file alread exists!\n"
     ]
    }
   ],
   "source": [
    "source = cwd / 'win10.md'\n",
    "destination = cwd / 'windows10.md'\n",
    "if not destination.exists():\n",
    "    source.replace(destination)\n",
    "else:\n",
    "    print('file alread exists!')"
   ]
  },
  {
   "cell_type": "markdown",
   "metadata": {},
   "source": [
    "## Find the Last Modified File\n",
    "The `.iterdir(), .glob(), and .rglob()` methods are great fits for generator expressions and list comprehensions. To find the file in a directory that was last modified, you can use the `.stat()` method to get information about the underlying files. For instance, `.stat().st_mtime` gives the time of last modification of a file:"
   ]
  },
  {
   "cell_type": "code",
   "execution_count": 25,
   "metadata": {},
   "outputs": [
    {
     "data": {
      "text/plain": [
       "WindowsPath('D:/forum66/001_code/gist/OS/Untitled.ipynb')"
      ]
     },
     "execution_count": 25,
     "metadata": {},
     "output_type": "execute_result"
    }
   ],
   "source": [
    "max((f.stat().st_mtime, f) for f in cwd.iterdir())[1]"
   ]
  },
  {
   "cell_type": "code",
   "execution_count": 1,
   "metadata": {},
   "outputs": [],
   "source": [
    "def last_file(path, pattern):\n",
    "    pat = re.compile(pattern)\n",
    "    return max((f.stat().st_mtime, f) for f in path.iterdir() if pat.match(f.name))\n"
   ]
  },
  {
   "cell_type": "code",
   "execution_count": null,
   "metadata": {},
   "outputs": [],
   "source": []
  },
  {
   "cell_type": "code",
   "execution_count": null,
   "metadata": {},
   "outputs": [],
   "source": []
  },
  {
   "cell_type": "code",
   "execution_count": null,
   "metadata": {},
   "outputs": [],
   "source": []
  }
 ],
 "metadata": {
  "kernelspec": {
   "display_name": "Python 3",
   "language": "python",
   "name": "python3"
  },
  "language_info": {
   "codemirror_mode": {
    "name": "ipython",
    "version": 3
   },
   "file_extension": ".py",
   "mimetype": "text/x-python",
   "name": "python",
   "nbconvert_exporter": "python",
   "pygments_lexer": "ipython3",
   "version": "3.7.1"
  }
 },
 "nbformat": 4,
 "nbformat_minor": 2
}
