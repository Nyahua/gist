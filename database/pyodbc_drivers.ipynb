{
 "cells": [
  {
   "cell_type": "code",
   "execution_count": 1,
   "metadata": {},
   "outputs": [
    {
     "data": {
      "text/plain": [
       "['Microsoft Access Driver (*.mdb)', 'Microsoft Access Driver (*.mdb, *.accdb)']"
      ]
     },
     "execution_count": 1,
     "metadata": {},
     "output_type": "execute_result"
    }
   ],
   "source": [
    "import pyodbc\n",
    "[x for x in pyodbc.drivers() if x.startswith('Microsoft Access Driver')]"
   ]
  },
  {
   "cell_type": "code",
   "execution_count": 2,
   "metadata": {},
   "outputs": [
    {
     "data": {
      "text/plain": [
       "['Driver da Microsoft para arquivos texto (*.txt; *.csv)',\n",
       " 'Driver do Microsoft Access (*.mdb)',\n",
       " 'Driver do Microsoft dBase (*.dbf)',\n",
       " 'Driver do Microsoft Excel(*.xls)',\n",
       " 'Driver do Microsoft Paradox (*.db )',\n",
       " 'Microsoft Access Driver (*.mdb)',\n",
       " 'Microsoft Access-Treiber (*.mdb)',\n",
       " 'Microsoft dBase Driver (*.dbf)',\n",
       " 'Microsoft dBase-Treiber (*.dbf)',\n",
       " 'Microsoft Excel Driver (*.xls)',\n",
       " 'Microsoft Excel-Treiber (*.xls)',\n",
       " 'Microsoft ODBC for Oracle',\n",
       " 'Microsoft Paradox Driver (*.db )',\n",
       " 'Microsoft Paradox-Treiber (*.db )',\n",
       " 'Microsoft Text Driver (*.txt; *.csv)',\n",
       " 'Microsoft Text-Treiber (*.txt; *.csv)',\n",
       " 'SQL Server',\n",
       " 'Microsoft Access Driver (*.mdb, *.accdb)',\n",
       " 'Microsoft Excel Driver (*.xls, *.xlsx, *.xlsm, *.xlsb)',\n",
       " 'Microsoft Access dBASE Driver (*.dbf, *.ndx, *.mdx)',\n",
       " 'Microsoft Access Text Driver (*.txt, *.csv)']"
      ]
     },
     "execution_count": 2,
     "metadata": {},
     "output_type": "execute_result"
    }
   ],
   "source": [
    "import pyodbc\n",
    "pyodbc.drivers()"
   ]
  },
  {
   "cell_type": "code",
   "execution_count": null,
   "metadata": {},
   "outputs": [],
   "source": []
  }
 ],
 "metadata": {
  "kernelspec": {
   "display_name": "Python 3",
   "language": "python",
   "name": "python3"
  },
  "language_info": {
   "codemirror_mode": {
    "name": "ipython",
    "version": 3
   },
   "file_extension": ".py",
   "mimetype": "text/x-python",
   "name": "python",
   "nbconvert_exporter": "python",
   "pygments_lexer": "ipython3",
   "version": "3.7.1"
  }
 },
 "nbformat": 4,
 "nbformat_minor": 2
}
